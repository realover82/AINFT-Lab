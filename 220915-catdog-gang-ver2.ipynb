{
 "cells": [
  {
   "cell_type": "code",
   "execution_count": 1,
   "id": "8e8ae923",
   "metadata": {},
   "outputs": [],
   "source": [
    "import tensorflow as tf\n",
    "from tensorflow import keras\n",
    "from tensorflow.keras import layers"
   ]
  },
  {
   "cell_type": "code",
   "execution_count": 2,
   "id": "91b92ff9",
   "metadata": {},
   "outputs": [],
   "source": [
    "from keras.layers import *\n",
    "from keras.models import Model\n",
    "\n",
    "def build_model():\n",
    "  x = Input(shape=(64, 64, 3))\n",
    "  out = x\n",
    "\n",
    "  out = Flatten()(out)\n",
    "  out = Dense(512, activation='relu')(out)\n",
    "  out = Dense(256, activation='relu')(out)\n",
    "  out = Dense(64, activation='relu')(out)\n",
    "  out = Dense(1, activation='sigmoid')(out)\n",
    "\n",
    "  model = Model(x, out)\n",
    "  return model"
   ]
  },
  {
   "cell_type": "code",
   "execution_count": 3,
   "id": "3b5eb652",
   "metadata": {},
   "outputs": [
    {
     "name": "stdout",
     "output_type": "stream",
     "text": [
      "Model: \"model\"\n",
      "_________________________________________________________________\n",
      " Layer (type)                Output Shape              Param #   \n",
      "=================================================================\n",
      " input_1 (InputLayer)        [(None, 64, 64, 3)]       0         \n",
      "                                                                 \n",
      " flatten (Flatten)           (None, 12288)             0         \n",
      "                                                                 \n",
      " dense (Dense)               (None, 512)               6291968   \n",
      "                                                                 \n",
      " dense_1 (Dense)             (None, 256)               131328    \n",
      "                                                                 \n",
      " dense_2 (Dense)             (None, 64)                16448     \n",
      "                                                                 \n",
      " dense_3 (Dense)             (None, 1)                 65        \n",
      "                                                                 \n",
      "=================================================================\n",
      "Total params: 6,439,809\n",
      "Trainable params: 6,439,809\n",
      "Non-trainable params: 0\n",
      "_________________________________________________________________\n"
     ]
    }
   ],
   "source": [
    "model = build_model()\n",
    "# input_shape = (64, 64, 3)\n",
    "# model = keras.Sequential()\n",
    "# model.add(keras.layers.Conv2D(32, kernel_size=(3, 3), padding=\"same\", \n",
    "#                  activation='relu',\n",
    "#                  input_shape=input_shape))\n",
    "# model.add(keras.layers.MaxPooling2D(pool_size=(2, 2)))\n",
    "# model.add(keras.layers.Dropout(0.25))\n",
    "# model.add(keras.layers.Conv2D(64, (3, 3), activation='relu'))\n",
    "# model.add(keras.layers.MaxPooling2D(pool_size=(2, 2)))\n",
    "# model.add(keras.layers.Dropout(0.25))\n",
    "# model.add(keras.layers.Flatten())\n",
    "# model.add(keras.layers.Dense(256, activation='relu'))\n",
    "# model.add(keras.layers.Dropout(0.5))\n",
    "# model.add(keras.layers.Dense(1, activation='sigmoid'))\n",
    "\n",
    "model.summary()"
   ]
  },
  {
   "cell_type": "code",
   "execution_count": 4,
   "id": "34616ff4",
   "metadata": {},
   "outputs": [],
   "source": [
    "from keras.preprocessing.image import ImageDataGenerator"
   ]
  },
  {
   "cell_type": "code",
   "execution_count": 5,
   "id": "f9135b81",
   "metadata": {},
   "outputs": [],
   "source": [
    "Generator = ImageDataGenerator(rescale=1/255.)\n"
   ]
  },
  {
   "cell_type": "code",
   "execution_count": 7,
   "id": "92bec854",
   "metadata": {},
   "outputs": [
    {
     "name": "stdout",
     "output_type": "stream",
     "text": [
      "Found 25000 images belonging to 2 classes.\n",
      "Found 25000 images belonging to 2 classes.\n"
     ]
    }
   ],
   "source": [
    "train_gen = Generator.flow_from_directory(r'C:\\Users\\ADMIN\\Downloads\\deeplearning\\python_catdog\\train\\train', target_size=(64,64),\n",
    "                                          batch_size=32,\n",
    "                                          class_mode='binary')\n",
    "\n",
    "val_gen = Generator.flow_from_directory(r'C:\\Users\\ADMIN\\Downloads\\deeplearning\\python_catdog\\validation\\validation', target_size=(64,64),\n",
    "                                          batch_size=32,\n",
    "                                          class_mode='binary')"
   ]
  },
  {
   "cell_type": "code",
   "execution_count": 8,
   "id": "1152c39e",
   "metadata": {},
   "outputs": [
    {
     "name": "stdout",
     "output_type": "stream",
     "text": [
      "Epoch 1/2\n",
      "782/782 [==============================] - 155s 198ms/step - loss: 0.7388 - accuracy: 0.5527 - val_loss: 0.6836 - val_accuracy: 0.5317\n",
      "Epoch 2/2\n",
      "782/782 [==============================] - 131s 167ms/step - loss: 0.6675 - accuracy: 0.5965 - val_loss: 0.6672 - val_accuracy: 0.6037\n"
     ]
    }
   ],
   "source": [
    "epochs = 2\n",
    "model.compile(optimizer='adam', loss='binary_crossentropy', metrics=['accuracy'])\n",
    "history = model.fit(train_gen, \n",
    "                    epochs=epochs, \n",
    "                    validation_data=val_gen)"
   ]
  },
  {
   "cell_type": "code",
   "execution_count": 9,
   "id": "8eaf0df3",
   "metadata": {},
   "outputs": [],
   "source": [
    "model.save(r\"C:\\Users\\ADMIN\\Downloads\\deeplearning\\python_catdog\\train\\train\\my_model-220914-ver1.h5\")"
   ]
  },
  {
   "cell_type": "markdown",
   "id": "eddb3089",
   "metadata": {},
   "source": [
    "model load"
   ]
  },
  {
   "cell_type": "code",
   "execution_count": 1,
   "id": "585f3a08",
   "metadata": {},
   "outputs": [],
   "source": [
    "from keras.models import load_model\n",
    "from PIL import Image, ImageOps\n",
    "import numpy as np\n",
    "import tensorflow as tf\n",
    "import matplotlib.pyplot as plt\n",
    "import pandas as pd\n",
    "import numpy as np"
   ]
  },
  {
   "cell_type": "code",
   "execution_count": 5,
   "id": "feb5ab60",
   "metadata": {},
   "outputs": [],
   "source": [
    "from keras.preprocessing.image import ImageDataGenerator"
   ]
  },
  {
   "cell_type": "code",
   "execution_count": 7,
   "id": "d147b3c2",
   "metadata": {},
   "outputs": [],
   "source": [
    "Generator = ImageDataGenerator(rescale=1/255.)\n"
   ]
  },
  {
   "cell_type": "code",
   "execution_count": 14,
   "id": "31aeaf54",
   "metadata": {},
   "outputs": [
    {
     "name": "stdout",
     "output_type": "stream",
     "text": [
      "Found 25000 images belonging to 2 classes.\n",
      "Found 25000 images belonging to 2 classes.\n"
     ]
    }
   ],
   "source": [
    "train_gen = Generator.flow_from_directory(r'C:\\Users\\ADMIN\\Downloads\\deeplearning\\python_catdog\\train\\train', target_size=(64,64),\n",
    "                                          batch_size=32,\n",
    "                                          class_mode='binary')\n",
    "\n",
    "val_gen = Generator.flow_from_directory(r'C:\\Users\\ADMIN\\Downloads\\deeplearning\\python_catdog\\validation\\validation', target_size=(64,64),\n",
    "                                          batch_size=32,\n",
    "                                          class_mode='binary')"
   ]
  },
  {
   "cell_type": "code",
   "execution_count": 2,
   "id": "bb9a1f66",
   "metadata": {},
   "outputs": [],
   "source": [
    "model = load_model(r'C:\\Users\\ADMIN\\Downloads\\deeplearning\\python_catdog\\train\\train\\my_model-220914-ver1.h5')\n"
   ]
  },
  {
   "cell_type": "code",
   "execution_count": 3,
   "id": "8e8eb01f",
   "metadata": {},
   "outputs": [
    {
     "ename": "NameError",
     "evalue": "name 'history' is not defined",
     "output_type": "error",
     "traceback": [
      "\u001b[1;31m---------------------------------------------------------------------------\u001b[0m",
      "\u001b[1;31mNameError\u001b[0m                                 Traceback (most recent call last)",
      "Input \u001b[1;32mIn [3]\u001b[0m, in \u001b[0;36m<cell line: 4>\u001b[1;34m()\u001b[0m\n\u001b[0;32m      1\u001b[0m \u001b[38;5;28;01mimport\u001b[39;00m \u001b[38;5;21;01mmatplotlib\u001b[39;00m\u001b[38;5;21;01m.\u001b[39;00m\u001b[38;5;21;01mpyplot\u001b[39;00m \u001b[38;5;28;01mas\u001b[39;00m \u001b[38;5;21;01mplt\u001b[39;00m\n\u001b[0;32m      2\u001b[0m get_ipython()\u001b[38;5;241m.\u001b[39mrun_line_magic(\u001b[38;5;124m'\u001b[39m\u001b[38;5;124mmatplotlib\u001b[39m\u001b[38;5;124m'\u001b[39m, \u001b[38;5;124m'\u001b[39m\u001b[38;5;124minline\u001b[39m\u001b[38;5;124m'\u001b[39m)\n\u001b[1;32m----> 4\u001b[0m loss \u001b[38;5;241m=\u001b[39m \u001b[43mhistory\u001b[49m\u001b[38;5;241m.\u001b[39mhistory[\u001b[38;5;124m'\u001b[39m\u001b[38;5;124mloss\u001b[39m\u001b[38;5;124m'\u001b[39m]\n\u001b[0;32m      5\u001b[0m val_loss \u001b[38;5;241m=\u001b[39m history\u001b[38;5;241m.\u001b[39mhistory[\u001b[38;5;124m'\u001b[39m\u001b[38;5;124mval_loss\u001b[39m\u001b[38;5;124m'\u001b[39m]\n\u001b[0;32m      7\u001b[0m epochs \u001b[38;5;241m=\u001b[39m \u001b[38;5;28mrange\u001b[39m(\u001b[38;5;241m1\u001b[39m, \u001b[38;5;28mlen\u001b[39m(loss) \u001b[38;5;241m+\u001b[39m \u001b[38;5;241m1\u001b[39m)\n",
      "\u001b[1;31mNameError\u001b[0m: name 'history' is not defined"
     ]
    }
   ],
   "source": [
    "import matplotlib.pyplot as plt\n",
    "%matplotlib inline \n",
    "\n",
    "loss = history.history['loss']\n",
    "val_loss = history.history['val_loss']\n",
    "\n",
    "epochs = range(1, len(loss) + 1)\n",
    "\n",
    "plt.figure()\n",
    "\n",
    "plt.plot(epochs, loss, 'bo', label='Training loss')\n",
    "plt.plot(epochs, val_loss, 'r', label='Validation loss')\n",
    "plt.title('Training and validation loss')\n",
    "plt.legend()\n",
    "\n",
    "plt.show()"
   ]
  },
  {
   "cell_type": "code",
   "execution_count": 8,
   "id": "51e24bfb",
   "metadata": {},
   "outputs": [
    {
     "name": "stdout",
     "output_type": "stream",
     "text": [
      "Found 12500 images belonging to 1 classes.\n"
     ]
    }
   ],
   "source": [
    "test_gen = Generator.flow_from_directory (r'C:\\Users\\ADMIN\\Downloads\\deeplearning\\python_catdog\\test1', target_size=(64,64),\n",
    "                                          batch_size=32,\n",
    "                                          class_mode='binary')"
   ]
  },
  {
   "cell_type": "code",
   "execution_count": 9,
   "id": "0bbe1d65",
   "metadata": {},
   "outputs": [
    {
     "name": "stdout",
     "output_type": "stream",
     "text": [
      "Test loss: 0.669\n",
      "Test accuracy: 0.445\n"
     ]
    }
   ],
   "source": [
    "score = model.evaluate(test_gen, verbose=0)\n",
    "print(f'Test loss: {score[0]:.3f}')\n",
    "print(f'Test accuracy: {score[1]:.3f}')"
   ]
  },
  {
   "cell_type": "code",
   "execution_count": 10,
   "id": "eb0e8a83",
   "metadata": {},
   "outputs": [
    {
     "name": "stdout",
     "output_type": "stream",
     "text": [
      "(12500, 64, 64, 3)\n",
      "(12500,)\n"
     ]
    }
   ],
   "source": [
    "import numpy as np\n",
    "\n",
    "x_tests, y_tests = [], []\n",
    "for i in range(len(test_gen)):\n",
    "  x_test, y_test = next(test_gen)\n",
    "  x_tests.append(x_test)\n",
    "  y_tests.append(y_test)\n",
    "\n",
    "x_test = np.concatenate(x_tests, axis=0)\n",
    "y_test = np.concatenate(y_tests, axis=0)\n",
    "\n",
    "print(x_test.shape)\n",
    "print(y_test.shape)"
   ]
  },
  {
   "cell_type": "code",
   "execution_count": 18,
   "id": "cf06f22c",
   "metadata": {},
   "outputs": [
    {
     "name": "stdout",
     "output_type": "stream",
     "text": [
      "1/1 [==============================] - 0s 14ms/step\n",
      "[[0.4891212]\n",
      " [0.4110585]\n",
      " [0.4743257]\n",
      " [0.5145591]]\n"
     ]
    }
   ],
   "source": [
    "pred = model.predict(x_test[:4])\n",
    "\n",
    "print(pred)\n",
    "# for i in range(4):\n",
    "#    plt.imshow(x_test[i])\n",
    "#    plt.title(pred[i])\n",
    "#    plt.show()"
   ]
  },
  {
   "cell_type": "code",
   "execution_count": 15,
   "id": "7a47a20f",
   "metadata": {},
   "outputs": [
    {
     "data": {
      "text/plain": [
       "{'cats': 0, 'dogs': 1}"
      ]
     },
     "execution_count": 15,
     "metadata": {},
     "output_type": "execute_result"
    }
   ],
   "source": [
    "train_gen.class_indices"
   ]
  },
  {
   "cell_type": "code",
   "execution_count": 33,
   "id": "600ee123",
   "metadata": {},
   "outputs": [
    {
     "name": "stdout",
     "output_type": "stream",
     "text": [
      "['C:/Users/ADMIN/Downloads/deeplearning/python_catdog/test1']\n"
     ]
    }
   ],
   "source": [
    "import glob\n",
    "fileList = glob.glob('C:/Users/ADMIN/Downloads/deeplearning/python_catdog/test1')\n",
    "print(fileList)"
   ]
  },
  {
   "cell_type": "code",
   "execution_count": 34,
   "id": "2fa35223",
   "metadata": {},
   "outputs": [],
   "source": [
    "import glob\n",
    "fileList = glob.glob('C:/Users/ADMIN/Downloads/deeplearning/python_catdog/test1')\n",
    "\n",
    "results = []\n",
    "\n",
    "for file_path in fileList:\n",
    "    results.append(file_path)\n",
    "\n",
    "ex51 = pd.DataFrame(results)\n",
    "ex52 = pd.DataFrame(fileList)   "
   ]
  },
  {
   "cell_type": "code",
   "execution_count": 35,
   "id": "86e6faa0",
   "metadata": {},
   "outputs": [
    {
     "ename": "AttributeError",
     "evalue": "'builtin_function_or_method' object has no attribute 'head'",
     "output_type": "error",
     "traceback": [
      "\u001b[1;31m---------------------------------------------------------------------------\u001b[0m",
      "\u001b[1;31mAttributeError\u001b[0m                            Traceback (most recent call last)",
      "Input \u001b[1;32mIn [35]\u001b[0m, in \u001b[0;36m<cell line: 1>\u001b[1;34m()\u001b[0m\n\u001b[1;32m----> 1\u001b[0m \u001b[38;5;28;43mprint\u001b[39;49m\u001b[38;5;241;43m.\u001b[39;49m\u001b[43mhead\u001b[49m(ex51)\n",
      "\u001b[1;31mAttributeError\u001b[0m: 'builtin_function_or_method' object has no attribute 'head'"
     ]
    }
   ],
   "source": [
    "print.head(ex51)"
   ]
  },
  {
   "cell_type": "code",
   "execution_count": 37,
   "id": "3d9d2cca",
   "metadata": {},
   "outputs": [
    {
     "name": "stdout",
     "output_type": "stream",
     "text": [
      "                                                   0\n",
      "0  C:/Users/ADMIN/Downloads/deeplearning/python_c...\n"
     ]
    }
   ],
   "source": [
    "print(ex51)"
   ]
  },
  {
   "cell_type": "code",
   "execution_count": 38,
   "id": "ed3f500c",
   "metadata": {},
   "outputs": [
    {
     "name": "stdout",
     "output_type": "stream",
     "text": [
      "                                                   0\n",
      "0  C:/Users/ADMIN/Downloads/deeplearning/python_c...\n"
     ]
    }
   ],
   "source": [
    "print(ex52)"
   ]
  },
  {
   "cell_type": "code",
   "execution_count": 41,
   "id": "d5efe117",
   "metadata": {},
   "outputs": [
    {
     "name": "stderr",
     "output_type": "stream",
     "text": [
      "C:\\Users\\ADMIN\\anaconda3\\lib\\site-packages\\pandas\\core\\internals\\construction.py:576: VisibleDeprecationWarning: Creating an ndarray from ragged nested sequences (which is a list-or-tuple of lists-or-tuples-or ndarrays with different lengths or shapes) is deprecated. If you meant to do this, you must specify 'dtype=object' when creating the ndarray.\n",
      "  values = np.array([convert(v) for v in values])\n"
     ]
    }
   ],
   "source": [
    "ex61 = pd.DataFrame(x_tests)"
   ]
  },
  {
   "cell_type": "code",
   "execution_count": 39,
   "id": "04fa6f10",
   "metadata": {},
   "outputs": [
    {
     "name": "stdout",
     "output_type": "stream",
     "text": [
      "[[[[0.42352945 0.427451   0.35686275]\n",
      "   [0.36862746 0.37254903 0.3019608 ]\n",
      "   [0.41176474 0.4156863  0.34509805]\n",
      "   ...\n",
      "   [0.10196079 0.07843138 0.03137255]\n",
      "   [0.06666667 0.03137255 0.00392157]\n",
      "   [0.04313726 0.0509804  0.        ]]\n",
      "\n",
      "  [[0.47450984 0.4784314  0.40784317]\n",
      "   [0.49803925 0.5019608  0.43137258]\n",
      "   [0.4784314  0.48235297 0.41176474]\n",
      "   ...\n",
      "   [0.1254902  0.07450981 0.03921569]\n",
      "   [0.09803922 0.0627451  0.03529412]\n",
      "   [0.04705883 0.04313726 0.03529412]]\n",
      "\n",
      "  [[0.48235297 0.48627454 0.4156863 ]\n",
      "   [0.47450984 0.4784314  0.40784317]\n",
      "   [0.4784314  0.48235297 0.41176474]\n",
      "   ...\n",
      "   [0.10980393 0.04313726 0.01176471]\n",
      "   [0.11764707 0.08235294 0.05490196]\n",
      "   [0.0509804  0.03137255 0.01568628]]\n",
      "\n",
      "  ...\n",
      "\n",
      "  [[0.37647063 0.38431376 0.34117648]\n",
      "   [0.37254903 0.3803922  0.3372549 ]\n",
      "   [0.38431376 0.38431376 0.34509805]\n",
      "   ...\n",
      "   [0.07843138 0.08235294 0.0627451 ]\n",
      "   [0.34901962 0.3529412  0.33333334]\n",
      "   [0.37647063 0.36078432 0.3254902 ]]\n",
      "\n",
      "  [[0.37647063 0.38431376 0.34117648]\n",
      "   [0.37647063 0.38431376 0.34117648]\n",
      "   [0.37647063 0.37647063 0.3372549 ]\n",
      "   ...\n",
      "   [0.09411766 0.09803922 0.07843138]\n",
      "   [0.3372549  0.34117648 0.32156864]\n",
      "   [0.37254903 0.35686275 0.32156864]]\n",
      "\n",
      "  [[0.3803922  0.38823533 0.34509805]\n",
      "   [0.37254903 0.3803922  0.3372549 ]\n",
      "   [0.38431376 0.38431376 0.34509805]\n",
      "   ...\n",
      "   [0.09019608 0.09411766 0.07450981]\n",
      "   [0.34901962 0.3529412  0.33333334]\n",
      "   [0.3647059  0.34117648 0.34117648]]]\n",
      "\n",
      "\n",
      " [[[0.08627451 0.08235294 0.07450981]\n",
      "   [0.08627451 0.08235294 0.07450981]\n",
      "   [0.08627451 0.08235294 0.07450981]\n",
      "   ...\n",
      "   [0.07843138 0.05882353 0.04705883]\n",
      "   [0.09411766 0.07450981 0.0627451 ]\n",
      "   [0.05490196 0.03529412 0.02352941]]\n",
      "\n",
      "  [[0.07843138 0.07450981 0.06666667]\n",
      "   [0.07843138 0.07450981 0.06666667]\n",
      "   [0.07843138 0.07450981 0.06666667]\n",
      "   ...\n",
      "   [0.09019608 0.07058824 0.05882353]\n",
      "   [0.09019608 0.07058824 0.05882353]\n",
      "   [0.05882353 0.03921569 0.02745098]]\n",
      "\n",
      "  [[0.09019608 0.08627451 0.07843138]\n",
      "   [0.09019608 0.08627451 0.07843138]\n",
      "   [0.09019608 0.08627451 0.07843138]\n",
      "   ...\n",
      "   [0.10588236 0.08627451 0.07450981]\n",
      "   [0.09803922 0.07843138 0.06666667]\n",
      "   [0.07843138 0.05882353 0.04705883]]\n",
      "\n",
      "  ...\n",
      "\n",
      "  [[0.627451   0.43137258 0.5294118 ]\n",
      "   [0.627451   0.43137258 0.5294118 ]\n",
      "   [0.6862745  0.4901961  0.5882353 ]\n",
      "   ...\n",
      "   [0.40784317 0.6431373  0.77647066]\n",
      "   [0.3921569  0.5882353  0.7254902 ]\n",
      "   [0.30588236 0.47450984 0.6       ]]\n",
      "\n",
      "  [[0.6509804  0.4431373  0.54509807]\n",
      "   [0.64705884 0.45882356 0.5529412 ]\n",
      "   [0.6784314  0.5019608  0.5921569 ]\n",
      "   ...\n",
      "   [0.4156863  0.6431373  0.78823537]\n",
      "   [0.41176474 0.62352943 0.76470596]\n",
      "   [0.3803922  0.57254905 0.7019608 ]]\n",
      "\n",
      "  [[0.6509804  0.4431373  0.54509807]\n",
      "   [0.64705884 0.45882356 0.5529412 ]\n",
      "   [0.6666667  0.4901961  0.5803922 ]\n",
      "   ...\n",
      "   [0.07450981 0.11764707 0.19607845]\n",
      "   [0.07450981 0.11764707 0.18823531]\n",
      "   [0.05882353 0.10588236 0.16078432]]]\n",
      "\n",
      "\n",
      " [[[0.48235297 0.40000004 0.2784314 ]\n",
      "   [0.48235297 0.40000004 0.2784314 ]\n",
      "   [0.45882356 0.39607847 0.2627451 ]\n",
      "   ...\n",
      "   [0.3254902  0.23529413 0.1137255 ]\n",
      "   [0.29803923 0.22352943 0.09803922]\n",
      "   [0.3019608  0.24313727 0.1137255 ]]\n",
      "\n",
      "  [[0.5019608  0.43921572 0.30980393]\n",
      "   [0.50980395 0.44705886 0.31764707]\n",
      "   [0.49803925 0.44705886 0.32156864]\n",
      "   ...\n",
      "   [0.30588236 0.21568629 0.09411766]\n",
      "   [0.30980393 0.21176472 0.09411766]\n",
      "   [0.3137255  0.2392157  0.1137255 ]]\n",
      "\n",
      "  [[0.5137255  0.454902   0.3019608 ]\n",
      "   [0.50980395 0.44705886 0.31764707]\n",
      "   [0.4901961  0.43529415 0.2901961 ]\n",
      "   ...\n",
      "   [0.30980393 0.23137257 0.10196079]\n",
      "   [0.3019608  0.21176472 0.08627451]\n",
      "   [0.29411766 0.20000002 0.09019608]]\n",
      "\n",
      "  ...\n",
      "\n",
      "  [[0.5921569  0.52156866 0.33333334]\n",
      "   [0.6        0.5294118  0.34117648]\n",
      "   [0.6117647  0.53333336 0.3372549 ]\n",
      "   ...\n",
      "   [0.70980394 0.6156863  0.3803922 ]\n",
      "   [0.69803923 0.63529414 0.4039216 ]\n",
      "   [0.72156864 0.65882355 0.427451  ]]\n",
      "\n",
      "  [[0.5764706  0.5058824  0.31764707]\n",
      "   [0.5921569  0.52156866 0.33333334]\n",
      "   [0.5803922  0.5019608  0.30588236]\n",
      "   ...\n",
      "   [0.6901961  0.6431373  0.454902  ]\n",
      "   [0.7372549  0.6862745  0.48235297]\n",
      "   [0.7372549  0.6862745  0.48235297]]\n",
      "\n",
      "  [[0.5686275  0.49803925 0.30980393]\n",
      "   [0.5686275  0.49803925 0.30980393]\n",
      "   [0.5921569  0.5137255  0.31764707]\n",
      "   ...\n",
      "   [0.7058824  0.6431373  0.45098042]\n",
      "   [0.7372549  0.69411767 0.5137255 ]\n",
      "   [0.7411765  0.69803923 0.5176471 ]]]\n",
      "\n",
      "\n",
      " ...\n",
      "\n",
      "\n",
      " [[[0.227451   0.28627452 0.21176472]\n",
      "   [0.29803923 0.2901961  0.24313727]\n",
      "   [0.2627451  0.28235295 0.26666668]\n",
      "   ...\n",
      "   [0.01176471 0.04313726 0.05490196]\n",
      "   [0.00392157 0.04705883 0.07058824]\n",
      "   [0.02745098 0.08235294 0.09411766]]\n",
      "\n",
      "  [[0.21960786 0.2784314  0.20392159]\n",
      "   [0.3019608  0.29411766 0.24705884]\n",
      "   [0.2627451  0.28235295 0.26666668]\n",
      "   ...\n",
      "   [0.01960784 0.0509804  0.0627451 ]\n",
      "   [0.07450981 0.11764707 0.14117648]\n",
      "   [0.06666667 0.12156864 0.13333334]]\n",
      "\n",
      "  [[0.227451   0.28627452 0.21176472]\n",
      "   [0.2901961  0.28235295 0.23529413]\n",
      "   [0.27058825 0.2901961  0.27450982]\n",
      "   ...\n",
      "   [0.02352941 0.05490196 0.06666667]\n",
      "   [0.0627451  0.10588236 0.12941177]\n",
      "   [0.05490196 0.10980393 0.12156864]]\n",
      "\n",
      "  ...\n",
      "\n",
      "  [[0.5529412  0.6        0.5058824 ]\n",
      "   [0.5529412  0.6        0.5058824 ]\n",
      "   [0.54901963 0.6        0.52156866]\n",
      "   ...\n",
      "   [0.33333334 0.37254903 0.34117648]\n",
      "   [0.34509805 0.40784317 0.36862746]\n",
      "   [0.31764707 0.36078432 0.3372549 ]]\n",
      "\n",
      "  [[0.56078434 0.60784316 0.5137255 ]\n",
      "   [0.52156866 0.5686275  0.47450984]\n",
      "   [0.5568628  0.62352943 0.5529412 ]\n",
      "   ...\n",
      "   [0.43529415 0.43529415 0.4039216 ]\n",
      "   [0.41960788 0.43137258 0.39607847]\n",
      "   [0.32941177 0.37254903 0.34901962]]\n",
      "\n",
      "  [[0.54509807 0.57254905 0.50980395]\n",
      "   [0.5529412  0.627451   0.5411765 ]\n",
      "   [0.56078434 0.6117647  0.54509807]\n",
      "   ...\n",
      "   [0.43529415 0.45098042 0.39607847]\n",
      "   [0.44705886 0.41960788 0.3803922 ]\n",
      "   [0.36862746 0.3921569  0.38431376]]]\n",
      "\n",
      "\n",
      " [[[0.98823535 0.9843138  1.        ]\n",
      "   [0.98823535 0.9843138  1.        ]\n",
      "   [0.9843138  0.98823535 1.        ]\n",
      "   ...\n",
      "   [0.05490196 0.05490196 0.04705883]\n",
      "   [0.04705883 0.04705883 0.03921569]\n",
      "   [0.04705883 0.03137255 0.02745098]]\n",
      "\n",
      "  [[0.96470594 0.9176471  0.6901961 ]\n",
      "   [0.9490197  0.90196085 0.6745098 ]\n",
      "   [0.9333334  0.8745099  0.6431373 ]\n",
      "   ...\n",
      "   [0.15686275 0.1254902  0.1137255 ]\n",
      "   [0.12156864 0.09019608 0.07843138]\n",
      "   [0.09803922 0.08627451 0.06666667]]\n",
      "\n",
      "  [[0.97647065 0.9960785  0.9725491 ]\n",
      "   [0.97647065 0.9960785  0.9725491 ]\n",
      "   [0.98823535 0.9803922  0.9921569 ]\n",
      "   ...\n",
      "   [0.18039216 0.13725491 0.0509804 ]\n",
      "   [0.19215688 0.14901961 0.0627451 ]\n",
      "   [0.20000002 0.13333334 0.05490196]]\n",
      "\n",
      "  ...\n",
      "\n",
      "  [[0.11764707 0.24705884 0.16470589]\n",
      "   [0.12156864 0.2784314  0.1764706 ]\n",
      "   [0.19607845 0.34117648 0.21176472]\n",
      "   ...\n",
      "   [0.14901961 0.37647063 0.32941177]\n",
      "   [0.11764707 0.3254902  0.28627452]\n",
      "   [0.12156864 0.32941177 0.2901961 ]]\n",
      "\n",
      "  [[0.15294118 0.2627451  0.1764706 ]\n",
      "   [0.1137255  0.23529413 0.1764706 ]\n",
      "   [0.10588236 0.23529413 0.16078432]\n",
      "   ...\n",
      "   [0.1764706  0.4039216  0.35686275]\n",
      "   [0.12941177 0.3372549  0.29803923]\n",
      "   [0.1137255  0.32156864 0.28235295]]\n",
      "\n",
      "  [[0.10588236 0.227451   0.15686275]\n",
      "   [0.1254902  0.24705884 0.1764706 ]\n",
      "   [0.18039216 0.30980393 0.227451  ]\n",
      "   ...\n",
      "   [0.11764707 0.3372549  0.29411766]\n",
      "   [0.16470589 0.3647059  0.32941177]\n",
      "   [0.23137257 0.4156863  0.38431376]]]\n",
      "\n",
      "\n",
      " [[[0.1254902  0.20392159 0.29803923]\n",
      "   [0.11764707 0.21176472 0.32156864]\n",
      "   [0.14509805 0.20784315 0.29803923]\n",
      "   ...\n",
      "   [0.03921569 0.         0.00392157]\n",
      "   [0.02352941 0.00784314 0.01176471]\n",
      "   [0.07450981 0.09803922 0.09019608]]\n",
      "\n",
      "  [[0.1254902  0.20392159 0.29803923]\n",
      "   [0.11764707 0.21176472 0.32156864]\n",
      "   [0.14509805 0.20784315 0.29803923]\n",
      "   ...\n",
      "   [0.04705883 0.00784314 0.01176471]\n",
      "   [0.02352941 0.00784314 0.01176471]\n",
      "   [0.07450981 0.09803922 0.09019608]]\n",
      "\n",
      "  [[0.12941177 0.20784315 0.3019608 ]\n",
      "   [0.1254902  0.21960786 0.32941177]\n",
      "   [0.14509805 0.20784315 0.29803923]\n",
      "   ...\n",
      "   [0.0509804  0.01176471 0.01568628]\n",
      "   [0.02352941 0.00784314 0.01176471]\n",
      "   [0.10196079 0.1254902  0.11764707]]\n",
      "\n",
      "  ...\n",
      "\n",
      "  [[0.07058824 0.07450981 0.08235294]\n",
      "   [0.07843138 0.08235294 0.09019608]\n",
      "   [0.08235294 0.08627451 0.09411766]\n",
      "   ...\n",
      "   [0.         0.04705883 0.01568628]\n",
      "   [0.07450981 0.05490196 0.03921569]\n",
      "   [0.08235294 0.04705883 0.01176471]]\n",
      "\n",
      "  [[0.05490196 0.05882353 0.06666667]\n",
      "   [0.05882353 0.0627451  0.07058824]\n",
      "   [0.06666667 0.07058824 0.07843138]\n",
      "   ...\n",
      "   [0.         0.01960784 0.1137255 ]\n",
      "   [0.10588236 0.05882353 0.07450981]\n",
      "   [0.10980393 0.02745098 0.01568628]]\n",
      "\n",
      "  [[0.04313726 0.04705883 0.05490196]\n",
      "   [0.04313726 0.04705883 0.05490196]\n",
      "   [0.05882353 0.0627451  0.07058824]\n",
      "   ...\n",
      "   [0.09803922 0.06666667 0.        ]\n",
      "   [0.11764707 0.04705883 0.        ]\n",
      "   [0.43921572 0.31764707 0.20392159]]]]\n"
     ]
    }
   ],
   "source": [
    "print(x_test)"
   ]
  },
  {
   "cell_type": "code",
   "execution_count": null,
   "id": "6c85aef6",
   "metadata": {},
   "outputs": [],
   "source": []
  },
  {
   "cell_type": "code",
   "execution_count": null,
   "id": "b22ad794",
   "metadata": {},
   "outputs": [],
   "source": []
  },
  {
   "cell_type": "code",
   "execution_count": 29,
   "id": "6abf56aa",
   "metadata": {},
   "outputs": [],
   "source": [
    "img_path = 'C:/Users/ADMIN/Downloads/deeplearning/python_catdog/test1'"
   ]
  },
  {
   "cell_type": "code",
   "execution_count": 30,
   "id": "4788bdfb",
   "metadata": {},
   "outputs": [],
   "source": [
    "def infer(img_path:str):\n",
    "    # Create the array of the right shape to feed into the keras model\n",
    "    # The 'length' or number of images you can put into the array is\n",
    "    # determined by the first position in the shape tuple, in this case 1.\n",
    "    data = np.ndarray(shape=(1, 224, 224, 3), dtype=np.float32)\n",
    "    # Replace this with the path to your image\n",
    "    image = Image.open(img_path)\n",
    "    #resize the image to a 224x224 with the same strategy as in TM2:\n",
    "    #resizing the image to be at least 224x224 and then cropping from the center\n",
    "    size = (224, 224)\n",
    "    image = ImageOps.fit(image, size, Image.ANTIALIAS)\n",
    "\n",
    "    #turn the image into a numpy array\n",
    "    image_array = np.asarray(image)\n",
    "    # Normalize the image\n",
    "    normalized_image_array = (image_array.astype(np.float32) / 127.0) - 1\n",
    "    # Load the image into the array\n",
    "    data[0] = normalized_image_array\n",
    "\n",
    "    # run the inference\n",
    "    prediction = model.predict(data)\n",
    "    \n",
    "    return prediction[0]"
   ]
  },
  {
   "cell_type": "code",
   "execution_count": 32,
   "id": "8955c5db",
   "metadata": {},
   "outputs": [
    {
     "ename": "PermissionError",
     "evalue": "[Errno 13] Permission denied: 'C:/Users/ADMIN/Downloads/deeplearning/python_catdog/test1'",
     "output_type": "error",
     "traceback": [
      "\u001b[1;31m---------------------------------------------------------------------------\u001b[0m",
      "\u001b[1;31mPermissionError\u001b[0m                           Traceback (most recent call last)",
      "Input \u001b[1;32mIn [32]\u001b[0m, in \u001b[0;36m<cell line: 6>\u001b[1;34m()\u001b[0m\n\u001b[0;32m      4\u001b[0m results \u001b[38;5;241m=\u001b[39m []\n\u001b[0;32m      6\u001b[0m \u001b[38;5;28;01mfor\u001b[39;00m file_path \u001b[38;5;129;01min\u001b[39;00m fileList:\n\u001b[1;32m----> 7\u001b[0m     results\u001b[38;5;241m.\u001b[39mappend(\u001b[43minfer\u001b[49m\u001b[43m(\u001b[49m\u001b[43mfile_path\u001b[49m\u001b[43m)\u001b[49m)\n\u001b[0;32m      9\u001b[0m ex51 \u001b[38;5;241m=\u001b[39m pd\u001b[38;5;241m.\u001b[39mDataFrame(results)\n\u001b[0;32m     10\u001b[0m ex52 \u001b[38;5;241m=\u001b[39m pd\u001b[38;5;241m.\u001b[39mDataFrame(fileList)\n",
      "Input \u001b[1;32mIn [30]\u001b[0m, in \u001b[0;36minfer\u001b[1;34m(img_path)\u001b[0m\n\u001b[0;32m      5\u001b[0m data \u001b[38;5;241m=\u001b[39m np\u001b[38;5;241m.\u001b[39mndarray(shape\u001b[38;5;241m=\u001b[39m(\u001b[38;5;241m1\u001b[39m, \u001b[38;5;241m224\u001b[39m, \u001b[38;5;241m224\u001b[39m, \u001b[38;5;241m3\u001b[39m), dtype\u001b[38;5;241m=\u001b[39mnp\u001b[38;5;241m.\u001b[39mfloat32)\n\u001b[0;32m      6\u001b[0m \u001b[38;5;66;03m# Replace this with the path to your image\u001b[39;00m\n\u001b[1;32m----> 7\u001b[0m image \u001b[38;5;241m=\u001b[39m \u001b[43mImage\u001b[49m\u001b[38;5;241;43m.\u001b[39;49m\u001b[43mopen\u001b[49m\u001b[43m(\u001b[49m\u001b[43mimg_path\u001b[49m\u001b[43m)\u001b[49m\n\u001b[0;32m      8\u001b[0m \u001b[38;5;66;03m#resize the image to a 224x224 with the same strategy as in TM2:\u001b[39;00m\n\u001b[0;32m      9\u001b[0m \u001b[38;5;66;03m#resizing the image to be at least 224x224 and then cropping from the center\u001b[39;00m\n\u001b[0;32m     10\u001b[0m size \u001b[38;5;241m=\u001b[39m (\u001b[38;5;241m224\u001b[39m, \u001b[38;5;241m224\u001b[39m)\n",
      "File \u001b[1;32m~\\anaconda3\\lib\\site-packages\\PIL\\Image.py:2953\u001b[0m, in \u001b[0;36mopen\u001b[1;34m(fp, mode, formats)\u001b[0m\n\u001b[0;32m   2950\u001b[0m     filename \u001b[38;5;241m=\u001b[39m fp\n\u001b[0;32m   2952\u001b[0m \u001b[38;5;28;01mif\u001b[39;00m filename:\n\u001b[1;32m-> 2953\u001b[0m     fp \u001b[38;5;241m=\u001b[39m \u001b[43mbuiltins\u001b[49m\u001b[38;5;241;43m.\u001b[39;49m\u001b[43mopen\u001b[49m\u001b[43m(\u001b[49m\u001b[43mfilename\u001b[49m\u001b[43m,\u001b[49m\u001b[43m \u001b[49m\u001b[38;5;124;43m\"\u001b[39;49m\u001b[38;5;124;43mrb\u001b[39;49m\u001b[38;5;124;43m\"\u001b[39;49m\u001b[43m)\u001b[49m\n\u001b[0;32m   2954\u001b[0m     exclusive_fp \u001b[38;5;241m=\u001b[39m \u001b[38;5;28;01mTrue\u001b[39;00m\n\u001b[0;32m   2956\u001b[0m \u001b[38;5;28;01mtry\u001b[39;00m:\n",
      "\u001b[1;31mPermissionError\u001b[0m: [Errno 13] Permission denied: 'C:/Users/ADMIN/Downloads/deeplearning/python_catdog/test1'"
     ]
    }
   ],
   "source": [
    "import glob\n",
    "fileList = glob.glob('C:/Users/ADMIN/Downloads/deeplearning/python_catdog/test1')\n",
    "\n",
    "results = []\n",
    "\n",
    "for file_path in fileList:\n",
    "    results.append(infer(file_path))\n",
    "\n",
    "ex51 = pd.DataFrame(results)\n",
    "ex52 = pd.DataFrame(fileList)   "
   ]
  },
  {
   "cell_type": "code",
   "execution_count": null,
   "id": "78a0c9e1",
   "metadata": {},
   "outputs": [],
   "source": []
  }
 ],
 "metadata": {
  "kernelspec": {
   "display_name": "Python 3 (ipykernel)",
   "language": "python",
   "name": "python3"
  },
  "language_info": {
   "codemirror_mode": {
    "name": "ipython",
    "version": 3
   },
   "file_extension": ".py",
   "mimetype": "text/x-python",
   "name": "python",
   "nbconvert_exporter": "python",
   "pygments_lexer": "ipython3",
   "version": "3.9.12"
  }
 },
 "nbformat": 4,
 "nbformat_minor": 5
}
