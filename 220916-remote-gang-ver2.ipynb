{
 "cells": [
  {
   "cell_type": "code",
   "execution_count": 1,
   "id": "44e1930e",
   "metadata": {},
   "outputs": [],
   "source": [
    "import tensorflow as tf\n",
    "from tensorflow import keras\n",
    "from tensorflow.keras import layers"
   ]
  },
  {
   "cell_type": "code",
   "execution_count": 2,
   "id": "eb7394ea",
   "metadata": {},
   "outputs": [],
   "source": [
    "from keras.layers import *\n",
    "from keras.models import Model\n"
   ]
  },
  {
   "cell_type": "code",
   "execution_count": 3,
   "id": "52a65117",
   "metadata": {},
   "outputs": [],
   "source": [
    "from PIL import Image, ImageOps\n",
    "import numpy as np\n",
    "import tensorflow as tf\n",
    "import matplotlib.pyplot as plt\n",
    "import pandas as pd\n",
    "import numpy as np"
   ]
  },
  {
   "cell_type": "code",
   "execution_count": 4,
   "id": "187d8e58",
   "metadata": {},
   "outputs": [],
   "source": [
    "from keras.models import load_model"
   ]
  },
  {
   "cell_type": "code",
   "execution_count": null,
   "id": "314b97e3",
   "metadata": {},
   "outputs": [],
   "source": []
  },
  {
   "cell_type": "code",
   "execution_count": null,
   "id": "f31462f6",
   "metadata": {},
   "outputs": [],
   "source": []
  },
  {
   "cell_type": "code",
   "execution_count": null,
   "id": "7b9b35e3",
   "metadata": {},
   "outputs": [],
   "source": []
  },
  {
   "cell_type": "code",
   "execution_count": 5,
   "id": "b9e9693e",
   "metadata": {},
   "outputs": [
    {
     "name": "stdout",
     "output_type": "stream",
     "text": [
      "Model: \"sequential\"\n",
      "_________________________________________________________________\n",
      " Layer (type)                Output Shape              Param #   \n",
      "=================================================================\n",
      " conv2d (Conv2D)             (None, 64, 64, 32)        896       \n",
      "                                                                 \n",
      " max_pooling2d (MaxPooling2D  (None, 32, 32, 32)       0         \n",
      " )                                                               \n",
      "                                                                 \n",
      " dropout (Dropout)           (None, 32, 32, 32)        0         \n",
      "                                                                 \n",
      " conv2d_1 (Conv2D)           (None, 30, 30, 64)        18496     \n",
      "                                                                 \n",
      " max_pooling2d_1 (MaxPooling  (None, 15, 15, 64)       0         \n",
      " 2D)                                                             \n",
      "                                                                 \n",
      " dropout_1 (Dropout)         (None, 15, 15, 64)        0         \n",
      "                                                                 \n",
      " flatten (Flatten)           (None, 14400)             0         \n",
      "                                                                 \n",
      " dense (Dense)               (None, 256)               3686656   \n",
      "                                                                 \n",
      " dropout_2 (Dropout)         (None, 256)               0         \n",
      "                                                                 \n",
      " dense_1 (Dense)             (None, 1)                 257       \n",
      "                                                                 \n",
      "=================================================================\n",
      "Total params: 3,706,305\n",
      "Trainable params: 3,706,305\n",
      "Non-trainable params: 0\n",
      "_________________________________________________________________\n"
     ]
    }
   ],
   "source": [
    "input_shape = (64, 64, 3)\n",
    "model = keras.Sequential()\n",
    "model.add(keras.layers.Conv2D(32, kernel_size=(3, 3), padding=\"same\", \n",
    "                 activation='relu',\n",
    "                 input_shape=input_shape))\n",
    "model.add(keras.layers.MaxPooling2D(pool_size=(2, 2)))\n",
    "model.add(keras.layers.Dropout(0.25))\n",
    "model.add(keras.layers.Conv2D(64, (3, 3), activation='relu'))\n",
    "model.add(keras.layers.MaxPooling2D(pool_size=(2, 2)))\n",
    "model.add(keras.layers.Dropout(0.25))\n",
    "model.add(keras.layers.Flatten())\n",
    "model.add(keras.layers.Dense(256, activation='relu'))\n",
    "model.add(keras.layers.Dropout(0.5))\n",
    "model.add(keras.layers.Dense(1, activation='sigmoid'))\n",
    "\n",
    "model.summary()"
   ]
  },
  {
   "cell_type": "code",
   "execution_count": 7,
   "id": "aa0658d5",
   "metadata": {},
   "outputs": [],
   "source": [
    "from keras.preprocessing.image import ImageDataGenerator"
   ]
  },
  {
   "cell_type": "code",
   "execution_count": 8,
   "id": "9e4d4cf4",
   "metadata": {},
   "outputs": [],
   "source": [
    "Generator = ImageDataGenerator(rescale=1/255.)"
   ]
  },
  {
   "cell_type": "code",
   "execution_count": 9,
   "id": "fef3c35d",
   "metadata": {},
   "outputs": [
    {
     "name": "stdout",
     "output_type": "stream",
     "text": [
      "Found 81 images belonging to 2 classes.\n",
      "Found 81 images belonging to 2 classes.\n"
     ]
    }
   ],
   "source": [
    "train_gen = Generator.flow_from_directory(r'C:\\Users\\ADMIN\\Downloads\\deeplearning\\remote\\train', target_size=(64,64),\n",
    "                                          batch_size=32,\n",
    "                                          class_mode='binary')\n",
    "\n",
    "val_gen = Generator.flow_from_directory(r'C:\\Users\\ADMIN\\Downloads\\deeplearning\\remote\\validation', target_size=(64,64),\n",
    "                                          batch_size=32,\n",
    "                                          class_mode='binary')"
   ]
  },
  {
   "cell_type": "code",
   "execution_count": 10,
   "id": "b5127d8f",
   "metadata": {},
   "outputs": [
    {
     "name": "stdout",
     "output_type": "stream",
     "text": [
      "Epoch 1/50\n",
      "3/3 [==============================] - 2s 478ms/step - loss: 2.6931 - accuracy: 0.4938 - val_loss: 1.6195 - val_accuracy: 0.4938\n",
      "Epoch 2/50\n",
      "3/3 [==============================] - 1s 280ms/step - loss: 1.6072 - accuracy: 0.5556 - val_loss: 0.9705 - val_accuracy: 0.5062\n",
      "Epoch 3/50\n",
      "3/3 [==============================] - 1s 344ms/step - loss: 1.2408 - accuracy: 0.5309 - val_loss: 0.6941 - val_accuracy: 0.5062\n",
      "Epoch 4/50\n",
      "3/3 [==============================] - 1s 357ms/step - loss: 0.7808 - accuracy: 0.4815 - val_loss: 0.7151 - val_accuracy: 0.4938\n",
      "Epoch 5/50\n",
      "3/3 [==============================] - 1s 298ms/step - loss: 0.7844 - accuracy: 0.4568 - val_loss: 0.6988 - val_accuracy: 0.4938\n",
      "Epoch 6/50\n",
      "3/3 [==============================] - 1s 293ms/step - loss: 0.7165 - accuracy: 0.4691 - val_loss: 0.6933 - val_accuracy: 0.4938\n",
      "Epoch 7/50\n",
      "3/3 [==============================] - 1s 299ms/step - loss: 0.7032 - accuracy: 0.4815 - val_loss: 0.6931 - val_accuracy: 0.5185\n",
      "Epoch 8/50\n",
      "3/3 [==============================] - 1s 304ms/step - loss: 0.6940 - accuracy: 0.4691 - val_loss: 0.6931 - val_accuracy: 0.4938\n",
      "Epoch 9/50\n",
      "3/3 [==============================] - 1s 337ms/step - loss: 0.6927 - accuracy: 0.5679 - val_loss: 0.6931 - val_accuracy: 0.5062\n",
      "Epoch 10/50\n",
      "3/3 [==============================] - 1s 300ms/step - loss: 0.6931 - accuracy: 0.5556 - val_loss: 0.6931 - val_accuracy: 0.5062\n",
      "Epoch 11/50\n",
      "3/3 [==============================] - 1s 317ms/step - loss: 0.6928 - accuracy: 0.5679 - val_loss: 0.6931 - val_accuracy: 0.5062\n",
      "Epoch 12/50\n",
      "3/3 [==============================] - 1s 313ms/step - loss: 0.6924 - accuracy: 0.5309 - val_loss: 0.6931 - val_accuracy: 0.5062\n",
      "Epoch 13/50\n",
      "3/3 [==============================] - 1s 297ms/step - loss: 0.6931 - accuracy: 0.5309 - val_loss: 0.6931 - val_accuracy: 0.5062\n",
      "Epoch 14/50\n",
      "3/3 [==============================] - 1s 304ms/step - loss: 0.6939 - accuracy: 0.4815 - val_loss: 0.6931 - val_accuracy: 0.5062\n",
      "Epoch 15/50\n",
      "3/3 [==============================] - 1s 302ms/step - loss: 0.6932 - accuracy: 0.4815 - val_loss: 0.6931 - val_accuracy: 0.5062\n",
      "Epoch 16/50\n",
      "3/3 [==============================] - 1s 340ms/step - loss: 0.6927 - accuracy: 0.5309 - val_loss: 0.6931 - val_accuracy: 0.5062\n",
      "Epoch 17/50\n",
      "3/3 [==============================] - 1s 366ms/step - loss: 0.6939 - accuracy: 0.4815 - val_loss: 0.6930 - val_accuracy: 0.5062\n",
      "Epoch 18/50\n",
      "3/3 [==============================] - 1s 323ms/step - loss: 0.6931 - accuracy: 0.4815 - val_loss: 0.6930 - val_accuracy: 0.5062\n",
      "Epoch 19/50\n",
      "3/3 [==============================] - 1s 341ms/step - loss: 0.6925 - accuracy: 0.5309 - val_loss: 0.6930 - val_accuracy: 0.5062\n",
      "Epoch 20/50\n",
      "3/3 [==============================] - 1s 418ms/step - loss: 0.6930 - accuracy: 0.5309 - val_loss: 0.6930 - val_accuracy: 0.5062\n",
      "Epoch 21/50\n",
      "3/3 [==============================] - 1s 304ms/step - loss: 0.6932 - accuracy: 0.4938 - val_loss: 0.6930 - val_accuracy: 0.5062\n",
      "Epoch 22/50\n",
      "3/3 [==============================] - 1s 330ms/step - loss: 0.6929 - accuracy: 0.5185 - val_loss: 0.6930 - val_accuracy: 0.5062\n",
      "Epoch 23/50\n",
      "3/3 [==============================] - 1s 315ms/step - loss: 0.6927 - accuracy: 0.5185 - val_loss: 0.6930 - val_accuracy: 0.5062\n",
      "Epoch 24/50\n",
      "3/3 [==============================] - 1s 331ms/step - loss: 0.6927 - accuracy: 0.5062 - val_loss: 0.6930 - val_accuracy: 0.5062\n",
      "Epoch 25/50\n",
      "3/3 [==============================] - 1s 319ms/step - loss: 0.6938 - accuracy: 0.4815 - val_loss: 0.6930 - val_accuracy: 0.5062\n",
      "Epoch 26/50\n",
      "3/3 [==============================] - 1s 341ms/step - loss: 0.6930 - accuracy: 0.4815 - val_loss: 0.6930 - val_accuracy: 0.5062\n",
      "Epoch 27/50\n",
      "3/3 [==============================] - 1s 329ms/step - loss: 0.6941 - accuracy: 0.4938 - val_loss: 0.6930 - val_accuracy: 0.5062\n",
      "Epoch 28/50\n",
      "3/3 [==============================] - 1s 356ms/step - loss: 0.6926 - accuracy: 0.4938 - val_loss: 0.6930 - val_accuracy: 0.5062\n",
      "Epoch 29/50\n",
      "3/3 [==============================] - 1s 302ms/step - loss: 0.6938 - accuracy: 0.5185 - val_loss: 0.6930 - val_accuracy: 0.5062\n",
      "Epoch 30/50\n",
      "3/3 [==============================] - 1s 308ms/step - loss: 0.6908 - accuracy: 0.5432 - val_loss: 0.6929 - val_accuracy: 0.5062\n",
      "Epoch 31/50\n",
      "3/3 [==============================] - 1s 300ms/step - loss: 0.6925 - accuracy: 0.5062 - val_loss: 0.6928 - val_accuracy: 0.5062\n",
      "Epoch 32/50\n",
      "3/3 [==============================] - 1s 294ms/step - loss: 0.6948 - accuracy: 0.4815 - val_loss: 0.6929 - val_accuracy: 0.5062\n",
      "Epoch 33/50\n",
      "3/3 [==============================] - 1s 308ms/step - loss: 0.6925 - accuracy: 0.5309 - val_loss: 0.6929 - val_accuracy: 0.5062\n",
      "Epoch 34/50\n",
      "3/3 [==============================] - 1s 351ms/step - loss: 0.6920 - accuracy: 0.5062 - val_loss: 0.6929 - val_accuracy: 0.5062\n",
      "Epoch 35/50\n",
      "3/3 [==============================] - 1s 299ms/step - loss: 0.6926 - accuracy: 0.4938 - val_loss: 0.6929 - val_accuracy: 0.5062\n",
      "Epoch 36/50\n",
      "3/3 [==============================] - 1s 312ms/step - loss: 0.6923 - accuracy: 0.5062 - val_loss: 0.6929 - val_accuracy: 0.5062\n",
      "Epoch 37/50\n",
      "3/3 [==============================] - 1s 354ms/step - loss: 0.6931 - accuracy: 0.4815 - val_loss: 0.6930 - val_accuracy: 0.5062\n",
      "Epoch 38/50\n",
      "3/3 [==============================] - 1s 343ms/step - loss: 0.6926 - accuracy: 0.5185 - val_loss: 0.6930 - val_accuracy: 0.5062\n",
      "Epoch 39/50\n",
      "3/3 [==============================] - 1s 342ms/step - loss: 0.6915 - accuracy: 0.5185 - val_loss: 0.6930 - val_accuracy: 0.5062\n",
      "Epoch 40/50\n",
      "3/3 [==============================] - 1s 355ms/step - loss: 0.6927 - accuracy: 0.5062 - val_loss: 0.6930 - val_accuracy: 0.5062\n",
      "Epoch 41/50\n",
      "3/3 [==============================] - 1s 314ms/step - loss: 0.6926 - accuracy: 0.4815 - val_loss: 0.6930 - val_accuracy: 0.5062\n",
      "Epoch 42/50\n",
      "3/3 [==============================] - 1s 327ms/step - loss: 0.6920 - accuracy: 0.5432 - val_loss: 0.6929 - val_accuracy: 0.5062\n",
      "Epoch 43/50\n",
      "3/3 [==============================] - 1s 330ms/step - loss: 0.6925 - accuracy: 0.4938 - val_loss: 0.6927 - val_accuracy: 0.5185\n",
      "Epoch 44/50\n",
      "3/3 [==============================] - 1s 361ms/step - loss: 0.6933 - accuracy: 0.5185 - val_loss: 0.6927 - val_accuracy: 0.5062\n",
      "Epoch 45/50\n",
      "3/3 [==============================] - 1s 317ms/step - loss: 0.6910 - accuracy: 0.5309 - val_loss: 0.6925 - val_accuracy: 0.5185\n",
      "Epoch 46/50\n",
      "3/3 [==============================] - 1s 354ms/step - loss: 0.7003 - accuracy: 0.4321 - val_loss: 0.6927 - val_accuracy: 0.5309\n",
      "Epoch 47/50\n",
      "3/3 [==============================] - 1s 321ms/step - loss: 0.7024 - accuracy: 0.4321 - val_loss: 0.6926 - val_accuracy: 0.5062\n",
      "Epoch 48/50\n",
      "3/3 [==============================] - 1s 376ms/step - loss: 0.6939 - accuracy: 0.5062 - val_loss: 0.6927 - val_accuracy: 0.5185\n",
      "Epoch 49/50\n",
      "3/3 [==============================] - 1s 375ms/step - loss: 0.6934 - accuracy: 0.4568 - val_loss: 0.6926 - val_accuracy: 0.5185\n",
      "Epoch 50/50\n",
      "3/3 [==============================] - 1s 371ms/step - loss: 0.6911 - accuracy: 0.6049 - val_loss: 0.6925 - val_accuracy: 0.5062\n"
     ]
    }
   ],
   "source": [
    "epochs = 50\n",
    "model.compile(optimizer='adam', loss='binary_crossentropy', metrics=['accuracy'])\n",
    "history = model.fit(train_gen, \n",
    "                    epochs=epochs, \n",
    "                    validation_data=val_gen)"
   ]
  },
  {
   "cell_type": "code",
   "execution_count": 11,
   "id": "a036c9e4",
   "metadata": {},
   "outputs": [],
   "source": [
    "model.save(r\"C:\\Users\\ADMIN\\Downloads\\deeplearning\\remote\\converted_keras-remote\\my_model-220916-remote-ver2.h5\")"
   ]
  },
  {
   "cell_type": "code",
   "execution_count": 12,
   "id": "4dc17dd3",
   "metadata": {},
   "outputs": [
    {
     "data": {
      "image/png": "[encoded data removed]",
      "text/plain": [
       "<Figure size 432x288 with 1 Axes>"
      ]
     },
     "metadata": {
      "needs_background": "light"
     },
     "output_type": "display_data"
    }
   ],
   "source": [
    "import matplotlib.pyplot as plt\n",
    "%matplotlib inline \n",
    "\n",
    "loss = history.history['loss']\n",
    "val_loss = history.history['val_loss']\n",
    "\n",
    "epochs = range(1, len(loss) + 1)\n",
    "\n",
    "plt.figure()\n",
    "\n",
    "plt.plot(epochs, loss, 'bo', label='Training loss')\n",
    "plt.plot(epochs, val_loss, 'r', label='Validation loss')\n",
    "plt.title('Training and validation loss')\n",
    "plt.legend()\n",
    "\n",
    "plt.show()"
   ]
  },
  {
   "cell_type": "code",
   "execution_count": 13,
   "id": "95ef5d34",
   "metadata": {},
   "outputs": [
    {
     "name": "stdout",
     "output_type": "stream",
     "text": [
      "Found 41 images belonging to 1 classes.\n"
     ]
    }
   ],
   "source": [
    "test_gen = Generator.flow_from_directory (r'C:\\Users\\ADMIN\\Downloads\\deeplearning\\remote\\test1', target_size=(64,64),\n",
    "                                          batch_size=32,\n",
    "                                          class_mode='binary')"
   ]
  },
  {
   "cell_type": "code",
   "execution_count": 14,
   "id": "76adf548",
   "metadata": {},
   "outputs": [
    {
     "name": "stdout",
     "output_type": "stream",
     "text": [
      "Test loss: 0.689\n",
      "Test accuracy: 0.634\n"
     ]
    }
   ],
   "source": [
    "score = model.evaluate(test_gen, verbose=0)\n",
    "print(f'Test loss: {score[0]:.3f}')\n",
    "print(f'Test accuracy: {score[1]:.3f}')"
   ]
  },
  {
   "cell_type": "code",
   "execution_count": 15,
   "id": "769ac036",
   "metadata": {},
   "outputs": [
    {
     "name": "stdout",
     "output_type": "stream",
     "text": [
      "(41, 64, 64, 3)\n",
      "(41,)\n"
     ]
    }
   ],
   "source": [
    "import numpy as np\n",
    "\n",
    "x_tests, y_tests = [], []\n",
    "for i in range(len(test_gen)):\n",
    "  x_test, y_test = next(test_gen)\n",
    "  x_tests.append(x_test)\n",
    "  y_tests.append(y_test)\n",
    "\n",
    "x_test = np.concatenate(x_tests, axis=0)\n",
    "y_test = np.concatenate(y_tests, axis=0)\n",
    "\n",
    "print(x_test.shape)\n",
    "print(y_test.shape)"
   ]
  },
  {
   "cell_type": "code",
   "execution_count": 16,
   "id": "d68b60f6",
   "metadata": {},
   "outputs": [
    {
     "name": "stdout",
     "output_type": "stream",
     "text": [
      "2/2 [==============================] - 0s 9ms/step\n",
      "[[0.50129795]\n",
      " [0.49222046]\n",
      " [0.503238  ]\n",
      " [0.4984967 ]\n",
      " [0.49578714]\n",
      " [0.4990638 ]\n",
      " [0.5117968 ]\n",
      " [0.49858642]\n",
      " [0.48849946]\n",
      " [0.49710366]\n",
      " [0.49909395]\n",
      " [0.50387836]\n",
      " [0.49610704]\n",
      " [0.50221515]\n",
      " [0.49689406]\n",
      " [0.50412   ]\n",
      " [0.5063476 ]\n",
      " [0.49545535]\n",
      " [0.50385   ]\n",
      " [0.49822688]\n",
      " [0.5035883 ]\n",
      " [0.49775454]\n",
      " [0.4963314 ]\n",
      " [0.49605837]\n",
      " [0.49200714]\n",
      " [0.49664402]\n",
      " [0.49834722]\n",
      " [0.49845263]\n",
      " [0.4963529 ]\n",
      " [0.5024059 ]\n",
      " [0.50223804]\n",
      " [0.49780118]\n",
      " [0.48482826]\n",
      " [0.4882363 ]\n",
      " [0.50050205]\n",
      " [0.5049577 ]\n",
      " [0.4963008 ]\n",
      " [0.48787037]\n",
      " [0.5039904 ]\n",
      " [0.50058305]\n",
      " [0.48523805]]\n"
     ]
    }
   ],
   "source": [
    "pred = model.predict(x_test[:25000])\n",
    "\n",
    "print(pred)\n",
    "# for i in range(4):\n",
    "#    plt.imshow(x_test[i])\n",
    "#    plt.title(pred[i])\n",
    "#    plt.show()"
   ]
  },
  {
   "cell_type": "code",
   "execution_count": 17,
   "id": "99e7ca0d",
   "metadata": {},
   "outputs": [],
   "source": [
    "ex63 = pd.DataFrame(pred)"
   ]
  },
  {
   "cell_type": "code",
   "execution_count": 18,
   "id": "fcc301d3",
   "metadata": {},
   "outputs": [
    {
     "name": "stdout",
     "output_type": "stream",
     "text": [
      "           0\n",
      "0   0.501298\n",
      "1   0.492220\n",
      "2   0.503238\n",
      "3   0.498497\n",
      "4   0.495787\n",
      "5   0.499064\n",
      "6   0.511797\n",
      "7   0.498586\n",
      "8   0.488499\n",
      "9   0.497104\n",
      "10  0.499094\n",
      "11  0.503878\n",
      "12  0.496107\n",
      "13  0.502215\n",
      "14  0.496894\n",
      "15  0.504120\n",
      "16  0.506348\n",
      "17  0.495455\n",
      "18  0.503850\n",
      "19  0.498227\n",
      "20  0.503588\n",
      "21  0.497755\n",
      "22  0.496331\n",
      "23  0.496058\n",
      "24  0.492007\n",
      "25  0.496644\n",
      "26  0.498347\n",
      "27  0.498453\n",
      "28  0.496353\n",
      "29  0.502406\n",
      "30  0.502238\n",
      "31  0.497801\n",
      "32  0.484828\n",
      "33  0.488236\n",
      "34  0.500502\n",
      "35  0.504958\n",
      "36  0.496301\n",
      "37  0.487870\n",
      "38  0.503990\n",
      "39  0.500583\n",
      "40  0.485238\n"
     ]
    }
   ],
   "source": [
    "print(ex63)"
   ]
  },
  {
   "cell_type": "code",
   "execution_count": 19,
   "id": "ba6648cd",
   "metadata": {},
   "outputs": [],
   "source": [
    "ex63.to_excel(excel_writer=r'C:\\Users\\ADMIN\\Downloads\\deeplearning\\remote\\test1-remote-220916-ver2.xlsx')"
   ]
  },
  {
   "cell_type": "code",
   "execution_count": 20,
   "id": "132acc4d",
   "metadata": {},
   "outputs": [
    {
     "data": {
      "text/plain": [
       "{'defective': 0, 'non-defective': 1}"
      ]
     },
     "execution_count": 20,
     "metadata": {},
     "output_type": "execute_result"
    }
   ],
   "source": [
    "train_gen.class_indices"
   ]
  },
  {
   "cell_type": "markdown",
   "id": "45732a4d",
   "metadata": {},
   "source": [
    "종료입니다. 아래부터는 테스트입니다."
   ]
  },
  {
   "cell_type": "code",
   "execution_count": null,
   "id": "d8b636b0",
   "metadata": {},
   "outputs": [],
   "source": []
  },
  {
   "cell_type": "code",
   "execution_count": null,
   "id": "04be705e",
   "metadata": {},
   "outputs": [],
   "source": []
  },
  {
   "cell_type": "code",
   "execution_count": null,
   "id": "1447b664",
   "metadata": {},
   "outputs": [],
   "source": []
  },
  {
   "cell_type": "code",
   "execution_count": null,
   "id": "2fa12d3a",
   "metadata": {},
   "outputs": [],
   "source": []
  },
  {
   "cell_type": "code",
   "execution_count": null,
   "id": "d1657d51",
   "metadata": {},
   "outputs": [],
   "source": []
  },
  {
   "cell_type": "code",
   "execution_count": 10,
   "id": "33efb3b4",
   "metadata": {},
   "outputs": [
    {
     "name": "stdout",
     "output_type": "stream",
     "text": [
      "Epoch 1/40\n",
      "19/19 [==============================] - 4s 193ms/step - loss: 0.4494 - accuracy: 0.7940 - val_loss: 0.6434 - val_accuracy: 0.6383\n",
      "Epoch 2/40\n",
      "19/19 [==============================] - 3s 177ms/step - loss: 0.3918 - accuracy: 0.8272 - val_loss: 0.6865 - val_accuracy: 0.6533\n",
      "Epoch 3/40\n",
      "19/19 [==============================] - 3s 165ms/step - loss: 0.3697 - accuracy: 0.8439 - val_loss: 0.6741 - val_accuracy: 0.6600\n",
      "Epoch 4/40\n",
      "19/19 [==============================] - 3s 161ms/step - loss: 0.3292 - accuracy: 0.8704 - val_loss: 0.6900 - val_accuracy: 0.6433\n",
      "Epoch 5/40\n",
      "19/19 [==============================] - 3s 159ms/step - loss: 0.2804 - accuracy: 0.8904 - val_loss: 0.7031 - val_accuracy: 0.6667\n",
      "Epoch 6/40\n",
      "19/19 [==============================] - 3s 161ms/step - loss: 0.2499 - accuracy: 0.9020 - val_loss: 0.7286 - val_accuracy: 0.6633\n",
      "Epoch 7/40\n",
      "19/19 [==============================] - 3s 161ms/step - loss: 0.2070 - accuracy: 0.9136 - val_loss: 0.7537 - val_accuracy: 0.6867\n",
      "Epoch 8/40\n",
      "19/19 [==============================] - 3s 166ms/step - loss: 0.1822 - accuracy: 0.9269 - val_loss: 0.7766 - val_accuracy: 0.6600\n",
      "Epoch 9/40\n",
      "19/19 [==============================] - 3s 162ms/step - loss: 0.1727 - accuracy: 0.9302 - val_loss: 0.8029 - val_accuracy: 0.6650\n",
      "Epoch 10/40\n",
      "19/19 [==============================] - 3s 170ms/step - loss: 0.1528 - accuracy: 0.9468 - val_loss: 0.8218 - val_accuracy: 0.6567\n",
      "Epoch 11/40\n",
      "19/19 [==============================] - 3s 171ms/step - loss: 0.1222 - accuracy: 0.9668 - val_loss: 0.8789 - val_accuracy: 0.6800\n",
      "Epoch 12/40\n",
      "19/19 [==============================] - 3s 165ms/step - loss: 0.0832 - accuracy: 0.9801 - val_loss: 0.9029 - val_accuracy: 0.6767\n",
      "Epoch 13/40\n",
      "19/19 [==============================] - 3s 165ms/step - loss: 0.0775 - accuracy: 0.9767 - val_loss: 0.9392 - val_accuracy: 0.6717\n",
      "Epoch 14/40\n",
      "19/19 [==============================] - 3s 164ms/step - loss: 0.0549 - accuracy: 0.9917 - val_loss: 1.0496 - val_accuracy: 0.6683\n",
      "Epoch 15/40\n",
      "19/19 [==============================] - 3s 163ms/step - loss: 0.0606 - accuracy: 0.9817 - val_loss: 1.0189 - val_accuracy: 0.6733\n",
      "Epoch 16/40\n",
      "19/19 [==============================] - 3s 164ms/step - loss: 0.0647 - accuracy: 0.9867 - val_loss: 1.0809 - val_accuracy: 0.6667\n",
      "Epoch 17/40\n",
      "19/19 [==============================] - 3s 163ms/step - loss: 0.0441 - accuracy: 0.9867 - val_loss: 1.1296 - val_accuracy: 0.6767\n",
      "Epoch 18/40\n",
      "19/19 [==============================] - 3s 162ms/step - loss: 0.0413 - accuracy: 0.9917 - val_loss: 1.1787 - val_accuracy: 0.6683\n",
      "Epoch 19/40\n",
      "19/19 [==============================] - 3s 159ms/step - loss: 0.0351 - accuracy: 0.9917 - val_loss: 1.1612 - val_accuracy: 0.6767\n",
      "Epoch 20/40\n",
      "19/19 [==============================] - 3s 163ms/step - loss: 0.0347 - accuracy: 0.9900 - val_loss: 1.1898 - val_accuracy: 0.6783\n",
      "Epoch 21/40\n",
      "19/19 [==============================] - 3s 160ms/step - loss: 0.0330 - accuracy: 0.9900 - val_loss: 1.2427 - val_accuracy: 0.6650\n",
      "Epoch 22/40\n",
      "19/19 [==============================] - 3s 165ms/step - loss: 0.0318 - accuracy: 0.9900 - val_loss: 1.2580 - val_accuracy: 0.6717\n",
      "Epoch 23/40\n",
      "19/19 [==============================] - 3s 169ms/step - loss: 0.0273 - accuracy: 0.9950 - val_loss: 1.2482 - val_accuracy: 0.6633\n",
      "Epoch 24/40\n",
      "19/19 [==============================] - 3s 163ms/step - loss: 0.0275 - accuracy: 0.9934 - val_loss: 1.2229 - val_accuracy: 0.6700\n",
      "Epoch 25/40\n",
      "19/19 [==============================] - 3s 161ms/step - loss: 0.0217 - accuracy: 0.9934 - val_loss: 1.3477 - val_accuracy: 0.6633\n",
      "Epoch 26/40\n",
      "19/19 [==============================] - 3s 162ms/step - loss: 0.0169 - accuracy: 0.9950 - val_loss: 1.4488 - val_accuracy: 0.6567\n",
      "Epoch 27/40\n",
      "19/19 [==============================] - 3s 165ms/step - loss: 0.0305 - accuracy: 0.9867 - val_loss: 1.4088 - val_accuracy: 0.6583\n",
      "Epoch 28/40\n",
      "19/19 [==============================] - 3s 163ms/step - loss: 0.0228 - accuracy: 0.9934 - val_loss: 1.3709 - val_accuracy: 0.6483\n",
      "Epoch 29/40\n",
      "19/19 [==============================] - 3s 168ms/step - loss: 0.0290 - accuracy: 0.9884 - val_loss: 1.4652 - val_accuracy: 0.6367\n",
      "Epoch 30/40\n",
      "19/19 [==============================] - 3s 179ms/step - loss: 0.0252 - accuracy: 0.9934 - val_loss: 1.4219 - val_accuracy: 0.6533\n",
      "Epoch 31/40\n",
      "19/19 [==============================] - 3s 180ms/step - loss: 0.0144 - accuracy: 0.9983 - val_loss: 1.5536 - val_accuracy: 0.6600\n",
      "Epoch 32/40\n",
      "19/19 [==============================] - 3s 165ms/step - loss: 0.0116 - accuracy: 1.0000 - val_loss: 1.6237 - val_accuracy: 0.6650\n",
      "Epoch 33/40\n",
      "19/19 [==============================] - 3s 164ms/step - loss: 0.0268 - accuracy: 0.9934 - val_loss: 1.4396 - val_accuracy: 0.6517\n",
      "Epoch 34/40\n",
      "19/19 [==============================] - 3s 164ms/step - loss: 0.0271 - accuracy: 0.9917 - val_loss: 1.5397 - val_accuracy: 0.6633\n",
      "Epoch 35/40\n",
      "19/19 [==============================] - 3s 165ms/step - loss: 0.0113 - accuracy: 1.0000 - val_loss: 1.4848 - val_accuracy: 0.6667\n",
      "Epoch 36/40\n",
      "19/19 [==============================] - 3s 165ms/step - loss: 0.0232 - accuracy: 0.9950 - val_loss: 1.4569 - val_accuracy: 0.6533\n",
      "Epoch 37/40\n",
      "19/19 [==============================] - 3s 164ms/step - loss: 0.0281 - accuracy: 0.9884 - val_loss: 1.5148 - val_accuracy: 0.6600\n",
      "Epoch 38/40\n",
      "19/19 [==============================] - 3s 167ms/step - loss: 0.0301 - accuracy: 0.9867 - val_loss: 1.5283 - val_accuracy: 0.6700\n",
      "Epoch 39/40\n",
      "19/19 [==============================] - 3s 165ms/step - loss: 0.0145 - accuracy: 0.9950 - val_loss: 1.4704 - val_accuracy: 0.6767\n",
      "Epoch 40/40\n",
      "19/19 [==============================] - 3s 170ms/step - loss: 0.0215 - accuracy: 0.9934 - val_loss: 1.4794 - val_accuracy: 0.6667\n"
     ]
    }
   ],
   "source": [
    "epochs = 40\n",
    "model.compile(optimizer='adam', loss='binary_crossentropy', metrics=['accuracy'])\n",
    "history = model.fit(train_gen, \n",
    "                    epochs=epochs, \n",
    "                    validation_data=val_gen)"
   ]
  },
  {
   "cell_type": "code",
   "execution_count": 11,
   "id": "7850805b",
   "metadata": {},
   "outputs": [],
   "source": [
    "model.save(r\"C:\\Users\\ADMIN\\Downloads\\deeplearning\\python_catdog\\220915\\my_model-220915-epoch50.h5\")"
   ]
  },
  {
   "cell_type": "code",
   "execution_count": 15,
   "id": "de641c75",
   "metadata": {},
   "outputs": [],
   "source": [
    "from keras.models import load_model"
   ]
  },
  {
   "cell_type": "code",
   "execution_count": 16,
   "id": "5fa562b6",
   "metadata": {},
   "outputs": [],
   "source": [
    "model = load_model(r'C:\\Users\\ADMIN\\Downloads\\deeplearning\\python_catdog\\220915\\my_model-220915-ver1.h5')"
   ]
  },
  {
   "cell_type": "code",
   "execution_count": 17,
   "id": "37387c8f",
   "metadata": {},
   "outputs": [
    {
     "data": {
      "image/png": "[encoded data removed]",
      "text/plain": [
       "<Figure size 432x288 with 1 Axes>"
      ]
     },
     "metadata": {
      "needs_background": "light"
     },
     "output_type": "display_data"
    }
   ],
   "source": [
    "import matplotlib.pyplot as plt\n",
    "%matplotlib inline \n",
    "\n",
    "loss = history.history['loss']\n",
    "val_loss = history.history['val_loss']\n",
    "\n",
    "epochs = range(1, len(loss) + 1)\n",
    "\n",
    "plt.figure()\n",
    "\n",
    "plt.plot(epochs, loss, 'bo', label='Training loss')\n",
    "plt.plot(epochs, val_loss, 'r', label='Validation loss')\n",
    "plt.title('Training and validation loss')\n",
    "plt.legend()\n",
    "\n",
    "plt.show()"
   ]
  },
  {
   "cell_type": "code",
   "execution_count": 21,
   "id": "f43d3a60",
   "metadata": {},
   "outputs": [
    {
     "name": "stdout",
     "output_type": "stream",
     "text": [
      "Found 25000 images belonging to 2 classes.\n"
     ]
    }
   ],
   "source": [
    "test_gen = Generator.flow_from_directory (r'C:\\Users\\ADMIN\\Downloads\\deeplearning\\python_catdog\\train\\train', target_size=(64,64),\n",
    "                                          batch_size=32,\n",
    "                                          class_mode='binary')"
   ]
  },
  {
   "cell_type": "code",
   "execution_count": 22,
   "id": "796526f0",
   "metadata": {},
   "outputs": [
    {
     "name": "stdout",
     "output_type": "stream",
     "text": [
      "Test loss: 0.654\n",
      "Test accuracy: 0.634\n"
     ]
    }
   ],
   "source": [
    "score = model.evaluate(test_gen, verbose=0)\n",
    "print(f'Test loss: {score[0]:.3f}')\n",
    "print(f'Test accuracy: {score[1]:.3f}')"
   ]
  },
  {
   "cell_type": "code",
   "execution_count": 23,
   "id": "98c14b27",
   "metadata": {},
   "outputs": [
    {
     "name": "stdout",
     "output_type": "stream",
     "text": [
      "(25000, 64, 64, 3)\n",
      "(25000,)\n"
     ]
    }
   ],
   "source": [
    "import numpy as np\n",
    "\n",
    "x_tests, y_tests = [], []\n",
    "for i in range(len(test_gen)):\n",
    "  x_test, y_test = next(test_gen)\n",
    "  x_tests.append(x_test)\n",
    "  y_tests.append(y_test)\n",
    "\n",
    "x_test = np.concatenate(x_tests, axis=0)\n",
    "y_test = np.concatenate(y_tests, axis=0)\n",
    "\n",
    "print(x_test.shape)\n",
    "print(y_test.shape)"
   ]
  },
  {
   "cell_type": "code",
   "execution_count": 24,
   "id": "ca31e145",
   "metadata": {},
   "outputs": [
    {
     "name": "stdout",
     "output_type": "stream",
     "text": [
      "782/782 [==============================] - 13s 17ms/step\n",
      "[[0.6388203 ]\n",
      " [0.44409272]\n",
      " [0.9762753 ]\n",
      " ...\n",
      " [0.5722553 ]\n",
      " [0.49792293]\n",
      " [0.65900266]]\n"
     ]
    }
   ],
   "source": [
    "pred = model.predict(x_test[:25000])\n",
    "\n",
    "print(pred)\n",
    "# for i in range(4):\n",
    "#    plt.imshow(x_test[i])\n",
    "#    plt.title(pred[i])\n",
    "#    plt.show()"
   ]
  },
  {
   "cell_type": "code",
   "execution_count": null,
   "id": "6acde84f",
   "metadata": {},
   "outputs": [],
   "source": [
    "from PIL import Image, ImageOps\n",
    "import numpy as np\n",
    "import tensorflow as tf\n",
    "import matplotlib.pyplot as plt\n",
    "import pandas as pd\n",
    "import numpy as np"
   ]
  },
  {
   "cell_type": "code",
   "execution_count": 27,
   "id": "323cc293",
   "metadata": {},
   "outputs": [],
   "source": [
    "ex63 = pd.DataFrame(pred)"
   ]
  },
  {
   "cell_type": "code",
   "execution_count": 28,
   "id": "048456b0",
   "metadata": {},
   "outputs": [
    {
     "name": "stdout",
     "output_type": "stream",
     "text": [
      "              0\n",
      "0      0.638820\n",
      "1      0.444093\n",
      "2      0.976275\n",
      "3      0.648106\n",
      "4      0.347574\n",
      "...         ...\n",
      "24995  0.059427\n",
      "24996  0.429309\n",
      "24997  0.572255\n",
      "24998  0.497923\n",
      "24999  0.659003\n",
      "\n",
      "[25000 rows x 1 columns]\n"
     ]
    }
   ],
   "source": [
    "print(ex63)"
   ]
  },
  {
   "cell_type": "code",
   "execution_count": 29,
   "id": "b272b484",
   "metadata": {},
   "outputs": [],
   "source": [
    "ex63.to_excel(excel_writer=r'C:\\Users\\ADMIN\\Downloads\\deeplearning\\python_catdog\\test1-220915-epoch10.xlsx')"
   ]
  },
  {
   "cell_type": "code",
   "execution_count": null,
   "id": "5fd988e0",
   "metadata": {},
   "outputs": [],
   "source": []
  },
  {
   "cell_type": "code",
   "execution_count": null,
   "id": "7c8aa4b2",
   "metadata": {},
   "outputs": [],
   "source": []
  }
 ],
 "metadata": {
  "kernelspec": {
   "display_name": "Python 3 (ipykernel)",
   "language": "python",
   "name": "python3"
  },
  "language_info": {
   "codemirror_mode": {
    "name": "ipython",
    "version": 3
   },
   "file_extension": ".py",
   "mimetype": "text/x-python",
   "name": "python",
   "nbconvert_exporter": "python",
   "pygments_lexer": "ipython3",
   "version": "3.9.12"
  }
 },
 "nbformat": 4,
 "nbformat_minor": 5
}
