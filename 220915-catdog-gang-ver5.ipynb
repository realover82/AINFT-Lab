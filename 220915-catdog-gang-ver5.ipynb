{
 "cells": [
  {
   "cell_type": "code",
   "execution_count": 1,
   "id": "0b191261",
   "metadata": {},
   "outputs": [],
   "source": [
    "import tensorflow as tf\n",
    "from tensorflow import keras\n",
    "from tensorflow.keras import layers"
   ]
  },
  {
   "cell_type": "code",
   "execution_count": 2,
   "id": "534a1fe3",
   "metadata": {},
   "outputs": [],
   "source": [
    "from keras.layers import *\n",
    "from keras.models import Model\n"
   ]
  },
  {
   "cell_type": "code",
   "execution_count": 26,
   "id": "466e1fbf",
   "metadata": {},
   "outputs": [],
   "source": [
    "from PIL import Image, ImageOps\n",
    "import numpy as np\n",
    "import tensorflow as tf\n",
    "import matplotlib.pyplot as plt\n",
    "import pandas as pd\n",
    "import numpy as np"
   ]
  },
  {
   "cell_type": "code",
   "execution_count": null,
   "id": "2fa1ff86",
   "metadata": {},
   "outputs": [],
   "source": [
    "from keras.models import load_model"
   ]
  },
  {
   "cell_type": "code",
   "execution_count": null,
   "id": "fc1df568",
   "metadata": {},
   "outputs": [],
   "source": []
  },
  {
   "cell_type": "code",
   "execution_count": null,
   "id": "107760c5",
   "metadata": {},
   "outputs": [],
   "source": []
  },
  {
   "cell_type": "code",
   "execution_count": null,
   "id": "add15253",
   "metadata": {},
   "outputs": [],
   "source": []
  },
  {
   "cell_type": "code",
   "execution_count": 3,
   "id": "2e403f3a",
   "metadata": {},
   "outputs": [
    {
     "name": "stdout",
     "output_type": "stream",
     "text": [
      "Model: \"sequential\"\n",
      "_________________________________________________________________\n",
      " Layer (type)                Output Shape              Param #   \n",
      "=================================================================\n",
      " conv2d (Conv2D)             (None, 64, 64, 32)        896       \n",
      "                                                                 \n",
      " max_pooling2d (MaxPooling2D  (None, 32, 32, 32)       0         \n",
      " )                                                               \n",
      "                                                                 \n",
      " dropout (Dropout)           (None, 32, 32, 32)        0         \n",
      "                                                                 \n",
      " conv2d_1 (Conv2D)           (None, 30, 30, 64)        18496     \n",
      "                                                                 \n",
      " max_pooling2d_1 (MaxPooling  (None, 15, 15, 64)       0         \n",
      " 2D)                                                             \n",
      "                                                                 \n",
      " dropout_1 (Dropout)         (None, 15, 15, 64)        0         \n",
      "                                                                 \n",
      " flatten (Flatten)           (None, 14400)             0         \n",
      "                                                                 \n",
      " dense (Dense)               (None, 256)               3686656   \n",
      "                                                                 \n",
      " dropout_2 (Dropout)         (None, 256)               0         \n",
      "                                                                 \n",
      " dense_1 (Dense)             (None, 1)                 257       \n",
      "                                                                 \n",
      "=================================================================\n",
      "Total params: 3,706,305\n",
      "Trainable params: 3,706,305\n",
      "Non-trainable params: 0\n",
      "_________________________________________________________________\n"
     ]
    }
   ],
   "source": [
    "input_shape = (64, 64, 3)\n",
    "model = keras.Sequential()\n",
    "model.add(keras.layers.Conv2D(32, kernel_size=(3, 3), padding=\"same\", \n",
    "                 activation='relu',\n",
    "                 input_shape=input_shape))\n",
    "model.add(keras.layers.MaxPooling2D(pool_size=(2, 2)))\n",
    "model.add(keras.layers.Dropout(0.25))\n",
    "model.add(keras.layers.Conv2D(64, (3, 3), activation='relu'))\n",
    "model.add(keras.layers.MaxPooling2D(pool_size=(2, 2)))\n",
    "model.add(keras.layers.Dropout(0.25))\n",
    "model.add(keras.layers.Flatten())\n",
    "model.add(keras.layers.Dense(256, activation='relu'))\n",
    "model.add(keras.layers.Dropout(0.5))\n",
    "model.add(keras.layers.Dense(1, activation='sigmoid'))\n",
    "\n",
    "model.summary()"
   ]
  },
  {
   "cell_type": "code",
   "execution_count": 4,
   "id": "1e4841e4",
   "metadata": {},
   "outputs": [],
   "source": [
    "from keras.preprocessing.image import ImageDataGenerator"
   ]
  },
  {
   "cell_type": "code",
   "execution_count": 5,
   "id": "203d7204",
   "metadata": {},
   "outputs": [],
   "source": [
    "Generator = ImageDataGenerator(rescale=1/255.)"
   ]
  },
  {
   "cell_type": "code",
   "execution_count": 7,
   "id": "e1d6a721",
   "metadata": {},
   "outputs": [
    {
     "name": "stdout",
     "output_type": "stream",
     "text": [
      "Found 602 images belonging to 2 classes.\n",
      "Found 600 images belonging to 2 classes.\n"
     ]
    }
   ],
   "source": [
    "train_gen = Generator.flow_from_directory(r'C:\\Users\\ADMIN\\Downloads\\deeplearning\\python_catdog\\220915\\train', target_size=(64,64),\n",
    "                                          batch_size=32,\n",
    "                                          class_mode='binary')\n",
    "\n",
    "val_gen = Generator.flow_from_directory(r'C:\\Users\\ADMIN\\Downloads\\deeplearning\\python_catdog\\220915\\validation', target_size=(64,64),\n",
    "                                          batch_size=32,\n",
    "                                          class_mode='binary')"
   ]
  },
  {
   "cell_type": "code",
   "execution_count": 8,
   "id": "61abb034",
   "metadata": {},
   "outputs": [
    {
     "name": "stdout",
     "output_type": "stream",
     "text": [
      "Epoch 1/10\n",
      "19/19 [==============================] - 4s 183ms/step - loss: 0.9975 - accuracy: 0.5066 - val_loss: 0.6933 - val_accuracy: 0.5000\n",
      "Epoch 2/10\n",
      "19/19 [==============================] - 3s 172ms/step - loss: 0.6929 - accuracy: 0.5066 - val_loss: 0.6926 - val_accuracy: 0.5967\n",
      "Epoch 3/10\n",
      "19/19 [==============================] - 3s 172ms/step - loss: 0.6920 - accuracy: 0.5365 - val_loss: 0.6928 - val_accuracy: 0.5200\n",
      "Epoch 4/10\n",
      "19/19 [==============================] - 3s 169ms/step - loss: 0.6859 - accuracy: 0.5615 - val_loss: 0.6876 - val_accuracy: 0.5833\n",
      "Epoch 5/10\n",
      "19/19 [==============================] - 3s 176ms/step - loss: 0.6736 - accuracy: 0.6179 - val_loss: 0.6798 - val_accuracy: 0.6300\n",
      "Epoch 6/10\n",
      "19/19 [==============================] - 3s 172ms/step - loss: 0.6325 - accuracy: 0.6628 - val_loss: 0.6561 - val_accuracy: 0.6267\n",
      "Epoch 7/10\n",
      "19/19 [==============================] - 3s 165ms/step - loss: 0.5995 - accuracy: 0.6977 - val_loss: 0.6558 - val_accuracy: 0.6300\n",
      "Epoch 8/10\n",
      "19/19 [==============================] - 3s 169ms/step - loss: 0.5638 - accuracy: 0.7126 - val_loss: 0.6381 - val_accuracy: 0.6567\n",
      "Epoch 9/10\n",
      "19/19 [==============================] - 3s 166ms/step - loss: 0.5391 - accuracy: 0.7292 - val_loss: 0.6463 - val_accuracy: 0.6550\n",
      "Epoch 10/10\n",
      "19/19 [==============================] - 3s 169ms/step - loss: 0.4945 - accuracy: 0.7674 - val_loss: 0.6480 - val_accuracy: 0.6450\n"
     ]
    }
   ],
   "source": [
    "epochs = 10\n",
    "model.compile(optimizer='adam', loss='binary_crossentropy', metrics=['accuracy'])\n",
    "history = model.fit(train_gen, \n",
    "                    epochs=epochs, \n",
    "                    validation_data=val_gen)"
   ]
  },
  {
   "cell_type": "code",
   "execution_count": 9,
   "id": "f5c1feba",
   "metadata": {},
   "outputs": [],
   "source": [
    "model.save(r\"C:\\Users\\ADMIN\\Downloads\\deeplearning\\python_catdog\\220915\\my_model-220915-ver1.h5\")"
   ]
  },
  {
   "cell_type": "code",
   "execution_count": 10,
   "id": "fce47a2f",
   "metadata": {},
   "outputs": [
    {
     "name": "stdout",
     "output_type": "stream",
     "text": [
      "Epoch 1/40\n",
      "19/19 [==============================] - 4s 193ms/step - loss: 0.4494 - accuracy: 0.7940 - val_loss: 0.6434 - val_accuracy: 0.6383\n",
      "Epoch 2/40\n",
      "19/19 [==============================] - 3s 177ms/step - loss: 0.3918 - accuracy: 0.8272 - val_loss: 0.6865 - val_accuracy: 0.6533\n",
      "Epoch 3/40\n",
      "19/19 [==============================] - 3s 165ms/step - loss: 0.3697 - accuracy: 0.8439 - val_loss: 0.6741 - val_accuracy: 0.6600\n",
      "Epoch 4/40\n",
      "19/19 [==============================] - 3s 161ms/step - loss: 0.3292 - accuracy: 0.8704 - val_loss: 0.6900 - val_accuracy: 0.6433\n",
      "Epoch 5/40\n",
      "19/19 [==============================] - 3s 159ms/step - loss: 0.2804 - accuracy: 0.8904 - val_loss: 0.7031 - val_accuracy: 0.6667\n",
      "Epoch 6/40\n",
      "19/19 [==============================] - 3s 161ms/step - loss: 0.2499 - accuracy: 0.9020 - val_loss: 0.7286 - val_accuracy: 0.6633\n",
      "Epoch 7/40\n",
      "19/19 [==============================] - 3s 161ms/step - loss: 0.2070 - accuracy: 0.9136 - val_loss: 0.7537 - val_accuracy: 0.6867\n",
      "Epoch 8/40\n",
      "19/19 [==============================] - 3s 166ms/step - loss: 0.1822 - accuracy: 0.9269 - val_loss: 0.7766 - val_accuracy: 0.6600\n",
      "Epoch 9/40\n",
      "19/19 [==============================] - 3s 162ms/step - loss: 0.1727 - accuracy: 0.9302 - val_loss: 0.8029 - val_accuracy: 0.6650\n",
      "Epoch 10/40\n",
      "19/19 [==============================] - 3s 170ms/step - loss: 0.1528 - accuracy: 0.9468 - val_loss: 0.8218 - val_accuracy: 0.6567\n",
      "Epoch 11/40\n",
      "19/19 [==============================] - 3s 171ms/step - loss: 0.1222 - accuracy: 0.9668 - val_loss: 0.8789 - val_accuracy: 0.6800\n",
      "Epoch 12/40\n",
      "19/19 [==============================] - 3s 165ms/step - loss: 0.0832 - accuracy: 0.9801 - val_loss: 0.9029 - val_accuracy: 0.6767\n",
      "Epoch 13/40\n",
      "19/19 [==============================] - 3s 165ms/step - loss: 0.0775 - accuracy: 0.9767 - val_loss: 0.9392 - val_accuracy: 0.6717\n",
      "Epoch 14/40\n",
      "19/19 [==============================] - 3s 164ms/step - loss: 0.0549 - accuracy: 0.9917 - val_loss: 1.0496 - val_accuracy: 0.6683\n",
      "Epoch 15/40\n",
      "19/19 [==============================] - 3s 163ms/step - loss: 0.0606 - accuracy: 0.9817 - val_loss: 1.0189 - val_accuracy: 0.6733\n",
      "Epoch 16/40\n",
      "19/19 [==============================] - 3s 164ms/step - loss: 0.0647 - accuracy: 0.9867 - val_loss: 1.0809 - val_accuracy: 0.6667\n",
      "Epoch 17/40\n",
      "19/19 [==============================] - 3s 163ms/step - loss: 0.0441 - accuracy: 0.9867 - val_loss: 1.1296 - val_accuracy: 0.6767\n",
      "Epoch 18/40\n",
      "19/19 [==============================] - 3s 162ms/step - loss: 0.0413 - accuracy: 0.9917 - val_loss: 1.1787 - val_accuracy: 0.6683\n",
      "Epoch 19/40\n",
      "19/19 [==============================] - 3s 159ms/step - loss: 0.0351 - accuracy: 0.9917 - val_loss: 1.1612 - val_accuracy: 0.6767\n",
      "Epoch 20/40\n",
      "19/19 [==============================] - 3s 163ms/step - loss: 0.0347 - accuracy: 0.9900 - val_loss: 1.1898 - val_accuracy: 0.6783\n",
      "Epoch 21/40\n",
      "19/19 [==============================] - 3s 160ms/step - loss: 0.0330 - accuracy: 0.9900 - val_loss: 1.2427 - val_accuracy: 0.6650\n",
      "Epoch 22/40\n",
      "19/19 [==============================] - 3s 165ms/step - loss: 0.0318 - accuracy: 0.9900 - val_loss: 1.2580 - val_accuracy: 0.6717\n",
      "Epoch 23/40\n",
      "19/19 [==============================] - 3s 169ms/step - loss: 0.0273 - accuracy: 0.9950 - val_loss: 1.2482 - val_accuracy: 0.6633\n",
      "Epoch 24/40\n",
      "19/19 [==============================] - 3s 163ms/step - loss: 0.0275 - accuracy: 0.9934 - val_loss: 1.2229 - val_accuracy: 0.6700\n",
      "Epoch 25/40\n",
      "19/19 [==============================] - 3s 161ms/step - loss: 0.0217 - accuracy: 0.9934 - val_loss: 1.3477 - val_accuracy: 0.6633\n",
      "Epoch 26/40\n",
      "19/19 [==============================] - 3s 162ms/step - loss: 0.0169 - accuracy: 0.9950 - val_loss: 1.4488 - val_accuracy: 0.6567\n",
      "Epoch 27/40\n",
      "19/19 [==============================] - 3s 165ms/step - loss: 0.0305 - accuracy: 0.9867 - val_loss: 1.4088 - val_accuracy: 0.6583\n",
      "Epoch 28/40\n",
      "19/19 [==============================] - 3s 163ms/step - loss: 0.0228 - accuracy: 0.9934 - val_loss: 1.3709 - val_accuracy: 0.6483\n",
      "Epoch 29/40\n",
      "19/19 [==============================] - 3s 168ms/step - loss: 0.0290 - accuracy: 0.9884 - val_loss: 1.4652 - val_accuracy: 0.6367\n",
      "Epoch 30/40\n",
      "19/19 [==============================] - 3s 179ms/step - loss: 0.0252 - accuracy: 0.9934 - val_loss: 1.4219 - val_accuracy: 0.6533\n",
      "Epoch 31/40\n",
      "19/19 [==============================] - 3s 180ms/step - loss: 0.0144 - accuracy: 0.9983 - val_loss: 1.5536 - val_accuracy: 0.6600\n",
      "Epoch 32/40\n",
      "19/19 [==============================] - 3s 165ms/step - loss: 0.0116 - accuracy: 1.0000 - val_loss: 1.6237 - val_accuracy: 0.6650\n",
      "Epoch 33/40\n",
      "19/19 [==============================] - 3s 164ms/step - loss: 0.0268 - accuracy: 0.9934 - val_loss: 1.4396 - val_accuracy: 0.6517\n",
      "Epoch 34/40\n",
      "19/19 [==============================] - 3s 164ms/step - loss: 0.0271 - accuracy: 0.9917 - val_loss: 1.5397 - val_accuracy: 0.6633\n",
      "Epoch 35/40\n",
      "19/19 [==============================] - 3s 165ms/step - loss: 0.0113 - accuracy: 1.0000 - val_loss: 1.4848 - val_accuracy: 0.6667\n",
      "Epoch 36/40\n",
      "19/19 [==============================] - 3s 165ms/step - loss: 0.0232 - accuracy: 0.9950 - val_loss: 1.4569 - val_accuracy: 0.6533\n",
      "Epoch 37/40\n",
      "19/19 [==============================] - 3s 164ms/step - loss: 0.0281 - accuracy: 0.9884 - val_loss: 1.5148 - val_accuracy: 0.6600\n",
      "Epoch 38/40\n",
      "19/19 [==============================] - 3s 167ms/step - loss: 0.0301 - accuracy: 0.9867 - val_loss: 1.5283 - val_accuracy: 0.6700\n",
      "Epoch 39/40\n",
      "19/19 [==============================] - 3s 165ms/step - loss: 0.0145 - accuracy: 0.9950 - val_loss: 1.4704 - val_accuracy: 0.6767\n",
      "Epoch 40/40\n",
      "19/19 [==============================] - 3s 170ms/step - loss: 0.0215 - accuracy: 0.9934 - val_loss: 1.4794 - val_accuracy: 0.6667\n"
     ]
    }
   ],
   "source": [
    "epochs = 40\n",
    "model.compile(optimizer='adam', loss='binary_crossentropy', metrics=['accuracy'])\n",
    "history = model.fit(train_gen, \n",
    "                    epochs=epochs, \n",
    "                    validation_data=val_gen)"
   ]
  },
  {
   "cell_type": "code",
   "execution_count": 11,
   "id": "bdb5fe87",
   "metadata": {},
   "outputs": [],
   "source": [
    "model.save(r\"C:\\Users\\ADMIN\\Downloads\\deeplearning\\python_catdog\\220915\\my_model-220915-epoch50.h5\")"
   ]
  },
  {
   "cell_type": "code",
   "execution_count": 15,
   "id": "0168e6c3",
   "metadata": {},
   "outputs": [],
   "source": [
    "from keras.models import load_model"
   ]
  },
  {
   "cell_type": "code",
   "execution_count": 16,
   "id": "f2a720e9",
   "metadata": {},
   "outputs": [],
   "source": [
    "model = load_model(r'C:\\Users\\ADMIN\\Downloads\\deeplearning\\python_catdog\\220915\\my_model-220915-ver1.h5')"
   ]
  },
  {
   "cell_type": "code",
   "execution_count": 17,
   "id": "5af46d35",
   "metadata": {},
   "outputs": [
    {
     "data": {
      "image/png": "[encoded data removed]",
      "text/plain": [
       "<Figure size 432x288 with 1 Axes>"
      ]
     },
     "metadata": {
      "needs_background": "light"
     },
     "output_type": "display_data"
    }
   ],
   "source": [
    "import matplotlib.pyplot as plt\n",
    "%matplotlib inline \n",
    "\n",
    "loss = history.history['loss']\n",
    "val_loss = history.history['val_loss']\n",
    "\n",
    "epochs = range(1, len(loss) + 1)\n",
    "\n",
    "plt.figure()\n",
    "\n",
    "plt.plot(epochs, loss, 'bo', label='Training loss')\n",
    "plt.plot(epochs, val_loss, 'r', label='Validation loss')\n",
    "plt.title('Training and validation loss')\n",
    "plt.legend()\n",
    "\n",
    "plt.show()"
   ]
  },
  {
   "cell_type": "code",
   "execution_count": 21,
   "id": "f79ba576",
   "metadata": {},
   "outputs": [
    {
     "name": "stdout",
     "output_type": "stream",
     "text": [
      "Found 25000 images belonging to 2 classes.\n"
     ]
    }
   ],
   "source": [
    "test_gen = Generator.flow_from_directory (r'C:\\Users\\ADMIN\\Downloads\\deeplearning\\python_catdog\\train\\train', target_size=(64,64),\n",
    "                                          batch_size=32,\n",
    "                                          class_mode='binary')"
   ]
  },
  {
   "cell_type": "code",
   "execution_count": 22,
   "id": "c3acf431",
   "metadata": {},
   "outputs": [
    {
     "name": "stdout",
     "output_type": "stream",
     "text": [
      "Test loss: 0.654\n",
      "Test accuracy: 0.634\n"
     ]
    }
   ],
   "source": [
    "score = model.evaluate(test_gen, verbose=0)\n",
    "print(f'Test loss: {score[0]:.3f}')\n",
    "print(f'Test accuracy: {score[1]:.3f}')"
   ]
  },
  {
   "cell_type": "code",
   "execution_count": 23,
   "id": "c4b3a1c4",
   "metadata": {},
   "outputs": [
    {
     "name": "stdout",
     "output_type": "stream",
     "text": [
      "(25000, 64, 64, 3)\n",
      "(25000,)\n"
     ]
    }
   ],
   "source": [
    "import numpy as np\n",
    "\n",
    "x_tests, y_tests = [], []\n",
    "for i in range(len(test_gen)):\n",
    "  x_test, y_test = next(test_gen)\n",
    "  x_tests.append(x_test)\n",
    "  y_tests.append(y_test)\n",
    "\n",
    "x_test = np.concatenate(x_tests, axis=0)\n",
    "y_test = np.concatenate(y_tests, axis=0)\n",
    "\n",
    "print(x_test.shape)\n",
    "print(y_test.shape)"
   ]
  },
  {
   "cell_type": "code",
   "execution_count": 24,
   "id": "43000323",
   "metadata": {},
   "outputs": [
    {
     "name": "stdout",
     "output_type": "stream",
     "text": [
      "782/782 [==============================] - 13s 17ms/step\n",
      "[[0.6388203 ]\n",
      " [0.44409272]\n",
      " [0.9762753 ]\n",
      " ...\n",
      " [0.5722553 ]\n",
      " [0.49792293]\n",
      " [0.65900266]]\n"
     ]
    }
   ],
   "source": [
    "pred = model.predict(x_test[:25000])\n",
    "\n",
    "print(pred)\n",
    "# for i in range(4):\n",
    "#    plt.imshow(x_test[i])\n",
    "#    plt.title(pred[i])\n",
    "#    plt.show()"
   ]
  },
  {
   "cell_type": "code",
   "execution_count": null,
   "id": "9bff3fe8",
   "metadata": {},
   "outputs": [],
   "source": [
    "from PIL import Image, ImageOps\n",
    "import numpy as np\n",
    "import tensorflow as tf\n",
    "import matplotlib.pyplot as plt\n",
    "import pandas as pd\n",
    "import numpy as np"
   ]
  },
  {
   "cell_type": "code",
   "execution_count": 27,
   "id": "445522e9",
   "metadata": {},
   "outputs": [],
   "source": [
    "ex63 = pd.DataFrame(pred)"
   ]
  },
  {
   "cell_type": "code",
   "execution_count": 28,
   "id": "bb33d3a6",
   "metadata": {},
   "outputs": [
    {
     "name": "stdout",
     "output_type": "stream",
     "text": [
      "              0\n",
      "0      0.638820\n",
      "1      0.444093\n",
      "2      0.976275\n",
      "3      0.648106\n",
      "4      0.347574\n",
      "...         ...\n",
      "24995  0.059427\n",
      "24996  0.429309\n",
      "24997  0.572255\n",
      "24998  0.497923\n",
      "24999  0.659003\n",
      "\n",
      "[25000 rows x 1 columns]\n"
     ]
    }
   ],
   "source": [
    "print(ex63)"
   ]
  },
  {
   "cell_type": "code",
   "execution_count": 29,
   "id": "abe5b28e",
   "metadata": {},
   "outputs": [],
   "source": [
    "ex63.to_excel(excel_writer=r'C:\\Users\\ADMIN\\Downloads\\deeplearning\\python_catdog\\test1-220915-epoch10.xlsx')"
   ]
  },
  {
   "cell_type": "code",
   "execution_count": null,
   "id": "dbf72cd5",
   "metadata": {},
   "outputs": [],
   "source": []
  }
 ],
 "metadata": {
  "kernelspec": {
   "display_name": "Python 3 (ipykernel)",
   "language": "python",
   "name": "python3"
  },
  "language_info": {
   "codemirror_mode": {
    "name": "ipython",
    "version": 3
   },
   "file_extension": ".py",
   "mimetype": "text/x-python",
   "name": "python",
   "nbconvert_exporter": "python",
   "pygments_lexer": "ipython3",
   "version": "3.9.12"
  }
 },
 "nbformat": 4,
 "nbformat_minor": 5
}
